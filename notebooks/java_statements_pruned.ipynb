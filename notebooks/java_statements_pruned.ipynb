{
 "cells": [
  {
   "cell_type": "code",
   "execution_count": 57,
   "metadata": {
    "collapsed": true
   },
   "outputs": [
    {
     "name": "stdout",
     "output_type": "stream",
     "text": [
      "Num GPUs Available:  1\n"
     ]
    }
   ],
   "source": [
    "import numpy as np\n",
    "import tensorflow as tf\n",
    "import os\n",
    "import json\n",
    "import glob\n",
    "import tqdm.notebook as tqdm\n",
    "import matplotlib.pyplot as plt\n",
    "import sklearn.metrics\n",
    "from gensim.models import Word2Vec, FastText\n",
    "print(\"Num GPUs Available: \", len(tf.config.list_physical_devices('GPU')))\n",
    "\n",
    "__type = 'full'\n",
    "# __type = 'pruned'"
   ]
  },
  {
   "cell_type": "code",
   "execution_count": 2,
   "outputs": [],
   "source": [
    "def read(path: str):\n",
    "    codes = []\n",
    "    tags = []\n",
    "    paths = []\n",
    "    for i in tqdm.tqdm(glob.iglob(os.path.join(path, '*.json')), desc='Reading data', total=len(os.listdir(path)) // 3):\n",
    "        pre, ext = os.path.splitext(i)\n",
    "        tags.append(json.load(open(i, 'r', encoding='utf-8'))['Tags'])\n",
    "        statements = open(pre + '.java.ast.stm.flat', 'r', encoding='utf-8').read().strip('\\n').split('\\n\\n')\n",
    "        codes.append([])\n",
    "        paths.append(i)\n",
    "        for stm in statements:\n",
    "            if len(stm) > 200:\n",
    "                continue\n",
    "            codes[-1].append([])\n",
    "            for line in stm.split('\\n'):\n",
    "                try:\n",
    "                    token, children = line.split('\\t')\n",
    "                    children = tuple(map(int, children.split())) if children else ()\n",
    "                    codes[-1][-1].append((token, children))\n",
    "                except:\n",
    "                    pass\n",
    "    return codes, tags, paths"
   ],
   "metadata": {
    "collapsed": false,
    "pycharm": {
     "name": "#%%\n"
    }
   }
  },
  {
   "cell_type": "code",
   "execution_count": 3,
   "outputs": [
    {
     "data": {
      "text/plain": "Reading data:   0%|          | 0/18179 [00:00<?, ?it/s]",
      "application/vnd.jupyter.widget-view+json": {
       "version_major": 2,
       "version_minor": 0,
       "model_id": "63888871394b4f2c9e0f90ff19101bc0"
      }
     },
     "metadata": {},
     "output_type": "display_data"
    }
   ],
   "source": [
    "codes, tags, paths = read(f'../data/java/{__type}')"
   ],
   "metadata": {
    "collapsed": false,
    "pycharm": {
     "name": "#%%\n"
    }
   }
  },
  {
   "cell_type": "code",
   "execution_count": 4,
   "outputs": [],
   "source": [
    "for code in codes:\n",
    "    for statement in code:\n",
    "        for node, children in statement:\n",
    "            for child in children:\n",
    "                _ = statement[child]"
   ],
   "metadata": {
    "collapsed": false,
    "pycharm": {
     "name": "#%%\n"
    }
   }
  },
  {
   "cell_type": "code",
   "execution_count": 5,
   "outputs": [
    {
     "data": {
      "text/plain": "17667"
     },
     "execution_count": 5,
     "metadata": {},
     "output_type": "execute_result"
    }
   ],
   "source": [
    "vocab = set()\n",
    "for code in codes:\n",
    "    for statement in code:\n",
    "        for token, _ in statement:\n",
    "            vocab.add(token)\n",
    "vocab = list(vocab)\n",
    "token_to_id = {j:i for i, j in enumerate(vocab)}\n",
    "len(vocab)"
   ],
   "metadata": {
    "collapsed": false,
    "pycharm": {
     "name": "#%%\n"
    }
   }
  },
  {
   "cell_type": "code",
   "execution_count": 6,
   "outputs": [
    {
     "data": {
      "text/plain": "['number theory',\n 'math',\n 'games',\n 'shortest paths',\n 'dp',\n 'sortings',\n 'meet-in-the-middle',\n 'bitmasks',\n 'flows',\n 'trees',\n 'interactive',\n 'two pointers',\n 'geometry',\n 'strings',\n 'implementation',\n 'graphs',\n 'dsu',\n 'string suffix structures',\n 'matrices',\n 'combinatorics',\n 'data structures',\n 'dfs and similar',\n 'constructive algorithms',\n 'brute force',\n 'binary search',\n 'hashing',\n 'divide and conquer',\n 'greedy']"
     },
     "execution_count": 6,
     "metadata": {},
     "output_type": "execute_result"
    }
   ],
   "source": [
    "labels = set()\n",
    "for tag_list in tags:\n",
    "    for tag in tag_list:\n",
    "        labels.add(tag)\n",
    "labels = list(labels)\n",
    "label_to_id = {label: i for i, label in enumerate(labels)}\n",
    "labels"
   ],
   "metadata": {
    "collapsed": false,
    "pycharm": {
     "name": "#%%\n"
    }
   }
  },
  {
   "cell_type": "code",
   "execution_count": 7,
   "outputs": [],
   "source": [
    "vector_size = 192"
   ],
   "metadata": {
    "collapsed": false,
    "pycharm": {
     "name": "#%%\n"
    }
   }
  },
  {
   "cell_type": "code",
   "execution_count": 8,
   "outputs": [],
   "source": [
    "w2v_model = Word2Vec.load(f'../embeddings/java/{__type}/stm.w2v')\n",
    "w2v_wv = w2v_model.wv\n",
    "w2v_embeddings = np.array([w2v_wv[i] if i in w2v_wv else np.zeros((vector_size,)) for i in vocab])"
   ],
   "metadata": {
    "collapsed": false,
    "pycharm": {
     "name": "#%%\n"
    }
   }
  },
  {
   "cell_type": "code",
   "execution_count": 9,
   "outputs": [],
   "source": [
    "ft_model = FastText.load(f'../embeddings/java/{__type}/stm.ft')\n",
    "ft_wv = ft_model.wv\n",
    "ft_embeddings = np.array([ft_wv[i] if i in ft_wv else np.zeros((vector_size,)) for i in vocab])"
   ],
   "metadata": {
    "collapsed": false,
    "pycharm": {
     "name": "#%%\n"
    }
   }
  },
  {
   "cell_type": "code",
   "execution_count": 10,
   "outputs": [
    {
     "name": "stdout",
     "output_type": "stream",
     "text": [
      "[-0.05564952  0.02046087  0.10647431 -0.01923187  0.00446714 -0.00236576\n",
      "  0.00533537 -0.0250175   0.10094999 -0.00020496]\n",
      "[-0.12320415  0.19479103 -0.41616592  0.6490167   0.5443552  -0.37005484\n",
      "  0.6032727   0.01902923 -0.35569012 -0.06282882]\n",
      "17667 17667\n",
      "17667 17667\n",
      "21777\n",
      "21777\n"
     ]
    }
   ],
   "source": [
    "print(w2v_embeddings[0][:10])\n",
    "print(ft_embeddings[0][:10])\n",
    "print(sum(i in w2v_wv for i in vocab), len(vocab))\n",
    "print(sum(i in ft_wv for i in vocab), len(vocab))\n",
    "print(len(w2v_model.wv.key_to_index))\n",
    "print(len(ft_model.wv.key_to_index))"
   ],
   "metadata": {
    "collapsed": false,
    "pycharm": {
     "name": "#%%\n"
    }
   }
  },
  {
   "cell_type": "code",
   "execution_count": 11,
   "outputs": [],
   "source": [
    "vectorized = []\n",
    "indices = []\n",
    "he_tags = []\n",
    "\n",
    "statements_hist = []\n",
    "nodes_hist = []\n",
    "max_code_len = -1\n",
    "max_statement_len = -1\n",
    "\n",
    "for code in codes:\n",
    "    vectorized.append([])\n",
    "    indices.append([])\n",
    "    max_code_len = max(max_code_len, len(code))\n",
    "    statements_hist.append(len(code))\n",
    "    for statement in code:\n",
    "        vectorized[-1].append([])\n",
    "        indices[-1].append([])\n",
    "        max_statement_len = max(max_statement_len, len(statement))\n",
    "        nodes_hist.append(len(statement))\n",
    "        for token, _ in statement:\n",
    "            vectorized[-1][-1].append(token_to_id[token] + 1)\n",
    "            indices[-1][-1].append(_)\n",
    "\n",
    "for tag_list in tags:\n",
    "    he_tags.append([0] * len(labels))\n",
    "    for tag in tag_list:\n",
    "        he_tags[-1][label_to_id[tag]] = 1"
   ],
   "metadata": {
    "collapsed": false,
    "pycharm": {
     "name": "#%%\n"
    }
   }
  },
  {
   "cell_type": "code",
   "execution_count": 12,
   "outputs": [
    {
     "name": "stdout",
     "output_type": "stream",
     "text": [
      "[[6145, 15482, 10013, 14548], [16478, 15482, 10013, 1565, 10677, 10013, 4971, 8064, 10013, 15893, 17071], [10454, 5684, 10013, 5941, 7577, 10013, 5099], [14973, 14515, 4705, 10013, 788], [10454, 5684, 10013, 5941, 7577, 10013, 10639, 10781, 5514, 10044], [246, 1370, 1348, 6023, 819, 9324, 10013, 5099, 10781, 5514, 10044, 9797], [15806, 1370, 1348, 6023, 780, 9324, 10013, 5099, 9797, 9797], [14973, 14515, 6871, 10013, 5121, 10219, 10781, 5514, 10044], [13256, 7244, 6023, 12844, 9324, 10013, 5099], [14973, 14515, 6871, 10013, 5121, 10219, 10781, 5514, 10044], [13256, 9324, 10013, 10639, 3034, 16412, 6023, 6880], [14973, 14515, 6871, 10013, 14828, 10219, 10781, 5514, 10044], [14973, 14515, 9120, 10013, 14054, 10219, 9324, 10013, 10639]]\n",
      "[[(1,), (2,), (3,), ()], [(1, 10), (2, 4), (3,), (), (5, 7), (6,), (), (8,), (9,), (), ()], [(1, 4), (2,), (3,), (), (5,), (6,), ()], [(1, 3), (2,), (), (4,), ()], [(1, 4), (2,), (3,), (), (5, 7), (6,), (), (8,), (9,), ()], [(1, 11), (2,), (3, 5, 8), (4,), (), (6,), (7,), (), (9,), (10,), (), ()], [(1, 8, 9), (2,), (3, 5), (4,), (), (6,), (7,), (), (), ()], [(1, 3, 5), (2,), (), (4,), (), (6,), (7,), (8,), ()], [(1,), (2, 4), (3,), (), (5,), (6,), ()], [(1, 3, 5), (2,), (), (4,), (), (6,), (7,), (8,), ()], [(1,), (2, 4), (3,), (), (5,), (6,), (7,), ()], [(1, 3, 5), (2,), (), (4,), (), (6,), (7,), (8,), ()], [(1, 3, 5), (2,), (), (4,), (), (6,), (7,), (8,), ()]]\n",
      "[[0, 0, 0, 0, 1, 0, 0, 0, 0, 0, 0, 0, 0, 0, 0, 0, 0, 0, 0, 0, 0, 0, 0, 0, 0, 0, 0, 1], [0, 0, 0, 0, 0, 0, 0, 0, 0, 0, 0, 0, 0, 0, 1, 0, 0, 0, 0, 0, 0, 0, 1, 0, 0, 0, 0, 0], [0, 0, 0, 0, 0, 0, 0, 0, 0, 0, 0, 0, 0, 0, 1, 0, 0, 0, 0, 0, 0, 0, 0, 0, 0, 0, 0, 0]]\n"
     ]
    }
   ],
   "source": [
    "print(vectorized[0])\n",
    "print(indices[0])\n",
    "print(he_tags[:3])"
   ],
   "metadata": {
    "collapsed": false,
    "pycharm": {
     "name": "#%%\n"
    }
   }
  },
  {
   "cell_type": "code",
   "execution_count": 13,
   "outputs": [
    {
     "name": "stdout",
     "output_type": "stream",
     "text": [
      "56.77606028934485\n",
      "999\n"
     ]
    },
    {
     "data": {
      "text/plain": "<Figure size 432x288 with 1 Axes>",
      "image/png": "[encoded data removed]"
     },
     "metadata": {
      "needs_background": "light"
     },
     "output_type": "display_data"
    }
   ],
   "source": [
    "plt.hist(statements_hist, bins=50)\n",
    "print(np.mean(statements_hist))\n",
    "print(max_code_len)"
   ],
   "metadata": {
    "collapsed": false,
    "pycharm": {
     "name": "#%%\n"
    }
   }
  },
  {
   "cell_type": "code",
   "execution_count": 14,
   "outputs": [
    {
     "name": "stdout",
     "output_type": "stream",
     "text": [
      "8.177879379769255\n",
      "19\n"
     ]
    },
    {
     "data": {
      "text/plain": "<Figure size 432x288 with 1 Axes>",
      "image/png": "[encoded data removed]"
     },
     "metadata": {
      "needs_background": "light"
     },
     "output_type": "display_data"
    }
   ],
   "source": [
    "plt.hist(nodes_hist, bins=20)\n",
    "print(np.mean(nodes_hist))\n",
    "print(max_statement_len)"
   ],
   "metadata": {
    "collapsed": false,
    "pycharm": {
     "name": "#%%\n"
    }
   }
  },
  {
   "cell_type": "code",
   "execution_count": 162,
   "outputs": [
    {
     "data": {
      "text/plain": "(array([1.405278e+06, 1.590000e+02, 6.000000e+00, 4.000000e+00,\n        0.000000e+00, 0.000000e+00, 7.000000e+00, 0.000000e+00,\n        1.000000e+00, 0.000000e+00, 0.000000e+00, 0.000000e+00,\n        0.000000e+00, 0.000000e+00, 0.000000e+00, 0.000000e+00,\n        0.000000e+00, 0.000000e+00, 0.000000e+00, 2.000000e+00]),\n array([2.00000e+00, 1.02850e+02, 2.03700e+02, 3.04550e+02, 4.05400e+02,\n        5.06250e+02, 6.07100e+02, 7.07950e+02, 8.08800e+02, 9.09650e+02,\n        1.01050e+03, 1.11135e+03, 1.21220e+03, 1.31305e+03, 1.41390e+03,\n        1.51475e+03, 1.61560e+03, 1.71645e+03, 1.81730e+03, 1.91815e+03,\n        2.01900e+03]),\n <BarContainer object of 20 artists>)"
     },
     "execution_count": 162,
     "metadata": {},
     "output_type": "execute_result"
    },
    {
     "data": {
      "text/plain": "<Figure size 432x288 with 1 Axes>",
      "image/png": "[encoded data removed]"
     },
     "metadata": {
      "needs_background": "light"
     },
     "output_type": "display_data"
    }
   ],
   "source": [
    "plt.hist(nodes_hist, bins=20)"
   ],
   "metadata": {
    "collapsed": false,
    "pycharm": {
     "name": "#%%\n"
    }
   }
  },
  {
   "cell_type": "code",
   "execution_count": 44,
   "outputs": [],
   "source": [
    "def get_embedding(shape: tuple, vocab: list, input_size: int, output_size: int, shift: int = 0, pre_trained = None):\n",
    "    embedding = tf.keras.layers.Embedding(input_size, output_size, name='Tree_Embedding', mask_zero=True)\n",
    "    embedding.build(shape)\n",
    "    embedding.trainable = pre_trained is None\n",
    "    if pre_trained is not None:\n",
    "        weights = np.zeros((input_size, output_size))\n",
    "        for i, token in enumerate(vocab):\n",
    "            try:\n",
    "                weights[i + shift] = pre_trained[i]\n",
    "            except:\n",
    "                pass\n",
    "        embedding.set_weights([weights])\n",
    "    return embedding\n",
    "\n",
    "\n",
    "def get_embedding_encoder(input_shape: tuple, output_size: int):\n",
    "    inputs = tf.keras.layers.Input(input_shape)\n",
    "    outputs = tf.keras.layers.Dense(output_size)(inputs)\n",
    "    return tf.keras.Model(inputs=inputs, outputs=outputs, name='Embedding_Encoder')\n",
    "\n",
    "\n",
    "def get_statement_encoder(input_shape: tuple, filters: int):\n",
    "    inputs = tf.keras.layers.Input(input_shape)\n",
    "    x = tf.keras.layers.Conv1D(filters=filters, kernel_size=3, activation='relu', padding='same')(inputs)\n",
    "    x = tf.keras.layers.Conv1D(filters=filters, kernel_size=3, activation='relu', padding='same')(x)\n",
    "    x = tf.keras.layers.Lambda(lambda tensor: tf.math.reduce_max(tensor, axis=2))(x)\n",
    "    return tf.keras.Model(inputs=inputs, outputs=x, name='Statement_Encoder')\n",
    "\n",
    "\n",
    "def get_tree_encoder(input_shape: tuple, predict: bool = False):\n",
    "    inputs = tf.keras.layers.Input(input_shape, name='Inputs')\n",
    "    x = tf.keras.layers.Dropout(0.1, name='Embedding_Dropout')(inputs)\n",
    "    x = tf.keras.layers.Bidirectional(\n",
    "            tf.keras.layers.RNN(tf.keras.layers.GRUCell(units=128)),\n",
    "        name='Double_Bidirectional_GRU')(x)\n",
    "    if predict:\n",
    "        x = tf.keras.layers.Dense(units=len(labels), activation='sigmoid', name='Prediction')(x)\n",
    "    return tf.keras.models.Model(inputs=inputs, outputs=x, name='Tree_Encoder')\n",
    "\n",
    "\n",
    "def get_combined_model(input_shape: tuple, embedding, encoder, statement_encoder, tree_encoder):\n",
    "    inputs = tf.keras.layers.Input(input_shape, name='Statement_Trees')\n",
    "    x = embedding(inputs)\n",
    "    x = encoder(x)\n",
    "    x = statement_encoder(x)\n",
    "    x = tree_encoder(x)\n",
    "    x = tf.keras.layers.Dense(units=256, activation=tf.keras.activations.swish, name='Dense')(x)\n",
    "    x = tf.keras.layers.Dense(units=len(labels), activation='sigmoid', name='Prediction')(x)\n",
    "    model = tf.keras.models.Model(inputs=inputs, outputs=x, name='PSLNN_Combined')\n",
    "    model.summary()\n",
    "    model.compile(optimizer='adam', loss='categorical_crossentropy')\n",
    "    return model\n",
    "\n",
    "\n",
    "def get_flat_model(input_shape: tuple, embedding):\n",
    "    inputs = tf.keras.layers.Input(input_shape, dtype=tf.int32, name='Nodes')\n",
    "    embedded = embedding(inputs)\n",
    "    dropout = tf.keras.layers.Dropout(0.5, name='Embedding_Dropout')(embedded)\n",
    "\n",
    "    n_layers = 2\n",
    "    kernels = [3, 5, 7]\n",
    "    layers = []\n",
    "\n",
    "    for k in kernels:\n",
    "        x = dropout\n",
    "        n = x.shape[-1]\n",
    "        for i in range(n_layers):\n",
    "            x = tf.keras.layers.Conv1D(n, k, activation=tf.keras.activations.swish, padding='same', name=f'Conv1D_{k}_{n}')(x)\n",
    "            x = tf.keras.layers.BatchNormalization(name=f'Batch_Norm_{k}_{n}')(x)\n",
    "            n *= 2\n",
    "\n",
    "        x = tf.keras.layers.GlobalMaxPooling1D(name=f'Max_Pool_{k}')(x)\n",
    "        layers.append(x)\n",
    "\n",
    "    x = tf.keras.layers.Concatenate(axis=-1, name='Pool_Concatenate')(layers)\n",
    "    x = tf.keras.layers.Dropout(0.5, name='Concatenate_Dropout')(x)\n",
    "    x = tf.keras.layers.Dense(units=512, activation=tf.keras.activations.swish, name=f'Dense')(x)\n",
    "    x = tf.keras.layers.Dense(units=len(labels), activation='sigmoid', name='Prediction')(x)\n",
    "    model = tf.keras.models.Model(inputs=inputs, outputs=x, name='PSLNN_Flat')\n",
    "    model.compile(optimizer='adam', loss='binary_crossentropy')\n",
    "    model.summary()\n",
    "    return model"
   ],
   "metadata": {
    "collapsed": false,
    "pycharm": {
     "name": "#%%\n"
    }
   }
  },
  {
   "cell_type": "code",
   "execution_count": 102,
   "outputs": [],
   "source": [
    "class StatementDataset(tf.keras.utils.Sequence):\n",
    "    def __init__(self, vectorized, indices, he_tags, batch_size):\n",
    "        self.vectorized = vectorized\n",
    "        self.indices = indices\n",
    "        self.he_tags = he_tags\n",
    "        self.batch_size = batch_size\n",
    "        self.shuffle()\n",
    "\n",
    "    def __len__(self):\n",
    "        return (len(self.vectorized) + self.batch_size - 1) // self.batch_size\n",
    "\n",
    "    def __getitem__(self, idx):\n",
    "        start = idx * self.batch_size\n",
    "        end = (idx + 1) * self.batch_size\n",
    "        vectorized_batch = vectorized[start:end]\n",
    "        indices_batch = indices[start:end]\n",
    "        he_tags_batch = he_tags[start:end]\n",
    "\n",
    "        max_len = max(len(j) for i in vectorized_batch for j in i)\n",
    "        code_batch = tf.keras.preprocessing.sequence.pad_sequences(\n",
    "            [tf.keras.preprocessing.sequence.pad_sequences(i, padding='post', maxlen=max_len) for i in vectorized_batch],\n",
    "            padding='post'\n",
    "        )\n",
    "        code_batch = code_batch[:,1:129]\n",
    "        indices_batch = [[i[j] for j in range(1, min(129, len(i)))] for i in indices_batch]\n",
    "        return (code_batch, indices_batch), he_tags_batch\n",
    "\n",
    "    def shuffle(self):\n",
    "        indices = np.arange(len(self.vectorized))\n",
    "        np.random.shuffle(indices)\n",
    "\n",
    "        self.vectorized = [self.vectorized[i] for i in indices]\n",
    "        self.indices = [self.indices[i] for i in indices]\n",
    "        self.he_tags = [self.he_tags[i] for i in indices]\n",
    "\n",
    "    def on_epoch_end(self):\n",
    "        self.shuffle()"
   ],
   "metadata": {
    "collapsed": false,
    "pycharm": {
     "name": "#%%\n"
    }
   }
  },
  {
   "cell_type": "code",
   "execution_count": 105,
   "outputs": [],
   "source": [
    "shift = 1\n",
    "emb_input_size = len(vocab) + shift\n",
    "emb_output_size = 192\n",
    "emb_encoder_output_size = 128\n",
    "embedding = get_embedding(shape=(None, None, None),\n",
    "                          input_size=emb_input_size,\n",
    "                          output_size=emb_output_size,\n",
    "                          pre_trained=ft_embeddings,\n",
    "                          shift=1,\n",
    "                          vocab=vocab)\n",
    "embedding_encoder_model = get_embedding_encoder(input_shape=(None, None, emb_output_size),\n",
    "                                                output_size=emb_encoder_output_size)\n",
    "tree_encoder_model = get_tree_encoder(input_shape=(None, emb_encoder_output_size),\n",
    "                                      predict=True)\n",
    "\n",
    "\n",
    "def cross_entropy(y_true, y_pred):\n",
    "    return tf.math.reduce_mean(-tf.math.reduce_sum(y_true * tf.math.log(y_pred), axis=-1))\n",
    "\n",
    "\n",
    "def tree_encoding_step(optimizer, code_batch, indices_batch, he_tags_batch):\n",
    "    with tf.GradientTape() as tape:\n",
    "        # b: code_batch length\n",
    "        # n: code_batch.shape[1] -- number of sequences in code\n",
    "        # m: code_batch.shape[2] -- number of statements in sequence\n",
    "        # e: embedding vector size\n",
    "        # code_batch: (b, n, m,)\n",
    "        # encoded: (b, n, m, e,)\n",
    "        encoded = embedding_encoder_model(embedding(code_batch), training=True)\n",
    "        encoded_as_list = [[[encoded[i, j, k] for k in range(code_batch.shape[2])] for j in range(code_batch.shape[1])] for i in range(len(code_batch))]\n",
    "        # statement encoding over known embeddings\n",
    "        for i in range(len(indices_batch)):\n",
    "            for j in range(len(indices_batch[i])):\n",
    "                for k in range(len(indices_batch[i][j]) - 1, -1, -1):\n",
    "                    children = indices_batch[i][j][k]\n",
    "                    if not children:\n",
    "                        continue\n",
    "                    encoded_as_list[i][j][k] = tf.reduce_sum([\n",
    "                        encoded_as_list[i][j][k],\n",
    "                        *(encoded_as_list[i][j][l] for l in children)\n",
    "                    ], axis=0)\n",
    "        pooled = tf.math.reduce_max(encoded_as_list, axis=2)\n",
    "        logits = tree_encoder_model(pooled, training=True)\n",
    "        loss_value = tf.math.reduce_mean(tf.keras.losses.binary_crossentropy(he_tags_batch, logits))\n",
    "        grads = tape.gradient(loss_value, tree_encoder_model.trainable_weights + embedding_encoder_model.trainable_weights)\n",
    "        optimizer.apply_gradients(zip(grads, tree_encoder_model.trainable_weights + embedding_encoder_model.trainable_weights))\n",
    "    return loss_value\n",
    "\n",
    "\n",
    "def models_parallel_train(epochs: int, batch_size: int):\n",
    "    optimizer = tf.keras.optimizers.Adamax(learning_rate=2e-3)\n",
    "    statement_dataset = StatementDataset(vectorized, indices, he_tags, batch_size=batch_size)\n",
    "    for epoch in tqdm.trange(epochs):\n",
    "        pbar = tqdm.tqdm(enumerate(statement_dataset), total=len(statement_dataset))\n",
    "        for step, ((code_batch, indices_batch), he_tags_batch) in pbar:\n",
    "            loss_value = tree_encoding_step(optimizer, code_batch, indices_batch, he_tags_batch).numpy()\n",
    "            pbar.set_description(str(loss_value))\n",
    "        statement_dataset.on_epoch_end()"
   ],
   "metadata": {
    "collapsed": false,
    "pycharm": {
     "name": "#%%\n"
    }
   }
  },
  {
   "cell_type": "code",
   "execution_count": null,
   "outputs": [
    {
     "data": {
      "text/plain": "  0%|          | 0/1 [00:00<?, ?it/s]",
      "application/vnd.jupyter.widget-view+json": {
       "version_major": 2,
       "version_minor": 0,
       "model_id": "ae3e63207dc24fc3a93985788d2c19e6"
      }
     },
     "metadata": {},
     "output_type": "display_data"
    },
    {
     "data": {
      "text/plain": "  0%|          | 0/4545 [00:00<?, ?it/s]",
      "application/vnd.jupyter.widget-view+json": {
       "version_major": 2,
       "version_minor": 0,
       "model_id": "2aa6d5b49397466fadf267a084574a1d"
      }
     },
     "metadata": {},
     "output_type": "display_data"
    }
   ],
   "source": [
    "models_parallel_train(epochs=1, batch_size=4)"
   ],
   "metadata": {
    "collapsed": false,
    "pycharm": {
     "name": "#%%\n",
     "is_executing": true
    }
   }
  },
  {
   "cell_type": "code",
   "execution_count": null,
   "outputs": [],
   "source": [
    "embedding_encoder_model.save('java_embedding_encoder_weights')\n",
    "tree_encoder_model.save('java_statement_tree_encoder_weights')"
   ],
   "metadata": {
    "collapsed": false,
    "pycharm": {
     "name": "#%%\n",
     "is_executing": true
    }
   }
  },
  {
   "cell_type": "code",
   "execution_count": 99,
   "outputs": [],
   "source": [
    "def predict_on_batch(code_batch, indices_batch):\n",
    "    encoded = embedding_encoder_model(embedding(code_batch))\n",
    "    encoded_as_list = [[[encoded[i, j, k] for k in range(code_batch.shape[2])] for j in range(code_batch.shape[1])] for i in range(len(code_batch))]\n",
    "    for i in range(len(indices_batch)):\n",
    "        for j in range(len(indices_batch[i])):\n",
    "            for k in range(len(indices_batch[i][j]) - 1, -1, -1):\n",
    "                children = indices_batch[i][j][k]\n",
    "                if not children:\n",
    "                    continue\n",
    "                encoded_as_list[i][j][k] = tf.reduce_sum([\n",
    "                    encoded_as_list[i][j][k],\n",
    "                    *(encoded_as_list[i][j][l] for l in children)\n",
    "                ], axis=0)\n",
    "    pooled = tf.math.reduce_max(encoded_as_list, axis=2)\n",
    "    logits = tree_encoder_model(pooled)\n",
    "    return logits"
   ],
   "metadata": {
    "collapsed": false,
    "pycharm": {
     "name": "#%%\n"
    }
   }
  },
  {
   "cell_type": "code",
   "execution_count": null,
   "outputs": [],
   "source": [
    "# def statement_encoding(epochs: int, batch_size: int):\n",
    "#     loss_fn = tf.keras.losses.CategoricalCrossentropy()\n",
    "#     optimizer = tf.keras.optimizers.Adam()\n",
    "#\n",
    "#     for epoch in tqdm.trange(epochs):\n",
    "#         vectorized_batches = batch(vectorized, batch_size)\n",
    "#         indices_batches = batch(indices, batch_size)\n",
    "#         he_tags_batches = batch(he_tags, batch_size)\n",
    "#         pbar = tqdm.tqdm(enumerate(zip(vectorized_batches, indices_batches, he_tags_batches)), total=len(vectorized) // batch_size)\n",
    "#         for step, (vectorized_batch, indices_batch, he_tags_batch) in pbar:\n",
    "#             max_len = max(len(j) for i in vectorized_batch for j in i)\n",
    "#             code_batch = tf.keras.preprocessing.sequence.pad_sequences(\n",
    "#                 [tf.keras.preprocessing.sequence.pad_sequences(i, padding='post', maxlen=max_len) for i in vectorized_batch],\n",
    "#                 padding='post'\n",
    "#             )\n",
    "#             with tf.GradientTape() as tape:\n",
    "#                 # m: max_len\n",
    "#                 # code_batch: b x n x m\n",
    "#                 # encoded: b x n x m x e\n",
    "#                 encoded = encoder_model(embedding(code_batch), training=True)\n",
    "#                 pooled = statement_encoder_model(encoded, training=True)\n",
    "#                 #logits = model(pooled, training=True)\n",
    "#                 #loss_value = loss_fn(he_tags_batch, logits)\n",
    "#\n",
    "#             #grads = tape.gradient(loss_value, model.trainable_weights + encoder_model.trainable_weights)\n",
    "#             #optimizer.apply_gradients(zip(grads, model.trainable_weights + encoder_model.trainable_weights))\n",
    "#             #pbar.set_description(str(loss_value.numpy()))"
   ],
   "metadata": {
    "collapsed": false,
    "pycharm": {
     "name": "#%%\n"
    }
   }
  },
  {
   "cell_type": "code",
   "execution_count": null,
   "outputs": [],
   "source": [
    "# class FlatteningDataset(tf.keras.utils.Sequence):\n",
    "#     def __init__(self, vectorized, indices, he_tags, batch_size):\n",
    "#         self.vectorized = vectorized\n",
    "#         self.indices = indices\n",
    "#         self.he_tags = he_tags\n",
    "#         self.batch_size = batch_size\n",
    "#\n",
    "#     def __len__(self):\n",
    "#         return (len(self.vectorized) + self.batch_size - 1) // self.batch_size\n",
    "#\n",
    "#     def __getitem__(self, idx):\n",
    "#         start = idx * self.batch_size\n",
    "#         end = (idx + 1) * self.batch_size\n",
    "#         vectorized_batch = vectorized[start:end]\n",
    "#         indices_batch = indices[start:end]\n",
    "#         he_tags_batch = he_tags[start:end]\n",
    "#\n",
    "#         vectorized_batch = [[st for sequence in code for st in sequence] for code in vectorized_batch]\n",
    "#         code_batch = tf.keras.preprocessing.sequence.pad_sequences(vectorized_batch, maxlen=1024, padding='post')\n",
    "#         return code_batch, np.array(he_tags_batch)\n",
    "#\n",
    "#     def on_epoch_end(self):\n",
    "#         pass\n",
    "\n",
    "# shift = 1\n",
    "# emb_input_size = len(vocab) + shift\n",
    "# emb_output_size = 192\n",
    "#\n",
    "# flat_model = get_flat_model(input_shape=(None,),\n",
    "#                             embedding=get_embedding(shape=(None, None),\n",
    "#                                                     vocab=vocab,\n",
    "#                                                     input_size=emb_input_size,\n",
    "#                                                     output_size=emb_output_size,\n",
    "#                                                     shift=shift,\n",
    "#                                                     pre_trained=ft_embeddings))\n",
    "#\n",
    "# flat_dataset = FlatteningDataset(vectorized, indices, he_tags, batch_size=8)\n",
    "#\n",
    "# emb_encoder_output_size = 128"
   ],
   "metadata": {
    "collapsed": false,
    "pycharm": {
     "name": "#%%\n"
    }
   }
  }
 ],
 "metadata": {
  "kernelspec": {
   "display_name": "Python 3",
   "language": "python",
   "name": "python3"
  },
  "language_info": {
   "codemirror_mode": {
    "name": "ipython",
    "version": 2
   },
   "file_extension": ".py",
   "mimetype": "text/x-python",
   "name": "python",
   "nbconvert_exporter": "python",
   "pygments_lexer": "ipython2",
   "version": "2.7.6"
  }
 },
 "nbformat": 4,
 "nbformat_minor": 0
}