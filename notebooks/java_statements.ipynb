{
 "cells": [
  {
   "cell_type": "code",
   "execution_count": 1,
   "metadata": {
    "collapsed": true
   },
   "outputs": [
    {
     "name": "stdout",
     "output_type": "stream",
     "text": [
      "Num GPUs Available:  1\n"
     ]
    }
   ],
   "source": [
    "import numpy as np\n",
    "import tensorflow as tf\n",
    "import os\n",
    "import json\n",
    "import glob\n",
    "import tqdm.notebook as tqdm\n",
    "import matplotlib.pyplot as plt\n",
    "import sklearn.metrics\n",
    "import sklearn.model_selection\n",
    "import tensorflow_addons as tfa\n",
    "from gensim.models import Word2Vec, FastText\n",
    "print(\"Num GPUs Available: \", len(tf.config.list_physical_devices('GPU')))\n",
    "\n",
    "__type = 'full'\n",
    "# __type = 'pruned'"
   ]
  },
  {
   "cell_type": "code",
   "execution_count": 2,
   "outputs": [],
   "source": [
    "def read(path: str):\n",
    "    balanced_labels = [\n",
    "        'dp',\n",
    "        'greedy',\n",
    "        'implementation',\n",
    "        'dfs and similar',\n",
    "        'graphs',\n",
    "        'brute force',\n",
    "        'math',\n",
    "        'number theory',\n",
    "        'constructive algorithms',\n",
    "        'trees',\n",
    "        'binary search',\n",
    "        'data structures',\n",
    "        'two pointers',\n",
    "        '*special',\n",
    "        'sortings',\n",
    "        'strings',\n",
    "        'bitmasks',\n",
    "        'combinatorics',\n",
    "        'geometry',\n",
    "    ]\n",
    "    codes = []\n",
    "    tags = []\n",
    "    paths = []\n",
    "    for i in tqdm.tqdm(glob.iglob(os.path.join(path, '*.json')), desc='Reading data', total=(len(os.listdir(path)) - 1) // 3):\n",
    "        pre, ext = os.path.splitext(i)\n",
    "        tags.append(list(filter(lambda tag: tag in balanced_labels, json.load(open(i, 'r', encoding='utf-8'))['Tags'])))\n",
    "        statements = open(pre + '.java.ast.stm.flat', 'r', encoding='utf-8').read().strip('\\n').split('\\n\\n')\n",
    "        codes.append([])\n",
    "        paths.append(i)\n",
    "        for stm in statements:\n",
    "            if len(stm) > 200:\n",
    "                continue\n",
    "            codes[-1].append([])\n",
    "            for line in stm.split('\\n'):\n",
    "                try:\n",
    "                    token, children = line.split('\\t')\n",
    "                    children = tuple(map(int, children.split())) if children else ()\n",
    "                    codes[-1][-1].append((token, children))\n",
    "                except Exception as e:\n",
    "                    print(i)\n",
    "                    print(line)\n",
    "                    print()\n",
    "                    print(stm)\n",
    "                    raise e\n",
    "\n",
    "    return codes, tags, paths"
   ],
   "metadata": {
    "collapsed": false,
    "pycharm": {
     "name": "#%%\n"
    }
   }
  },
  {
   "cell_type": "code",
   "execution_count": 3,
   "outputs": [
    {
     "data": {
      "text/plain": "Reading data:   0%|          | 0/48537 [00:00<?, ?it/s]",
      "application/vnd.jupyter.widget-view+json": {
       "version_major": 2,
       "version_minor": 0,
       "model_id": "961fc63eba394e8c8001dc20e02c7d7d"
      }
     },
     "metadata": {},
     "output_type": "display_data"
    }
   ],
   "source": [
    "codes, tags, paths = read(f'../data/revisited/java/{__type}')"
   ],
   "metadata": {
    "collapsed": false,
    "pycharm": {
     "name": "#%%\n"
    }
   }
  },
  {
   "cell_type": "code",
   "execution_count": 4,
   "outputs": [],
   "source": [
    "for code, p in zip(codes, paths):\n",
    "    for statement in code:\n",
    "        for node, children in statement:\n",
    "            for child in children:\n",
    "                try:\n",
    "                    _ = statement[child]\n",
    "                except Exception as e:\n",
    "                    print(p)\n",
    "                    print(node)\n",
    "                    print(child)\n",
    "                    print(statement)\n",
    "                    raise e"
   ],
   "metadata": {
    "collapsed": false,
    "pycharm": {
     "name": "#%%\n"
    }
   }
  },
  {
   "cell_type": "code",
   "execution_count": 4,
   "outputs": [
    {
     "data": {
      "text/plain": "46343"
     },
     "execution_count": 4,
     "metadata": {},
     "output_type": "execute_result"
    }
   ],
   "source": [
    "vocab = set()\n",
    "for code in codes:\n",
    "    for statement in code:\n",
    "        for token, _ in statement:\n",
    "            vocab.add(token)\n",
    "vocab = list(vocab)\n",
    "token_to_id = {j:i for i, j in enumerate(vocab)}\n",
    "len(vocab)"
   ],
   "metadata": {
    "collapsed": false,
    "pycharm": {
     "name": "#%%\n"
    }
   }
  },
  {
   "cell_type": "code",
   "execution_count": 5,
   "outputs": [
    {
     "data": {
      "text/plain": "(19,\n defaultdict(int,\n             {'dp': 8642,\n              'greedy': 13835,\n              'implementation': 20837,\n              'dfs and similar': 3067,\n              'graphs': 2986,\n              'brute force': 7896,\n              'math': 14851,\n              'number theory': 5538,\n              'constructive algorithms': 11079,\n              'trees': 1945,\n              'binary search': 2635,\n              'data structures': 4172,\n              'two pointers': 1612,\n              '*special': 1852,\n              'sortings': 4213,\n              'strings': 4391,\n              'bitmasks': 1299,\n              'combinatorics': 1274,\n              'geometry': 1237}))"
     },
     "execution_count": 5,
     "metadata": {},
     "output_type": "execute_result"
    }
   ],
   "source": [
    "from collections import defaultdict\n",
    "\n",
    "freq = defaultdict(int)\n",
    "labels = set()\n",
    "for tag_list in tags:\n",
    "    for tag in tag_list:\n",
    "        labels.add(tag)\n",
    "        freq[tag] += 1\n",
    "labels = list(labels)\n",
    "label_to_id = {label: i for i, label in enumerate(labels)}\n",
    "\n",
    "len(labels), freq"
   ],
   "metadata": {
    "collapsed": false,
    "pycharm": {
     "name": "#%%\n"
    }
   }
  },
  {
   "cell_type": "code",
   "execution_count": 6,
   "outputs": [],
   "source": [
    "vector_size = 192"
   ],
   "metadata": {
    "collapsed": false,
    "pycharm": {
     "name": "#%%\n"
    }
   }
  },
  {
   "cell_type": "code",
   "execution_count": 12,
   "outputs": [],
   "source": [
    "w2v_model = Word2Vec.load(f'../embeddings/revisited/java/{__type}/stm.w2v')\n",
    "w2v_wv = w2v_model.wv\n",
    "w2v_embeddings = np.array([w2v_wv[i] if i in w2v_wv else np.zeros((vector_size,)) for i in vocab])"
   ],
   "metadata": {
    "collapsed": false,
    "pycharm": {
     "name": "#%%\n"
    }
   }
  },
  {
   "cell_type": "code",
   "execution_count": 7,
   "outputs": [],
   "source": [
    "ft_model = FastText.load(f'../embeddings/revisited/java/{__type}/stm.ft')\n",
    "ft_wv = ft_model.wv\n",
    "ft_embeddings = np.array([ft_wv[i] if i in ft_wv else np.zeros((vector_size,)) for i in vocab])"
   ],
   "metadata": {
    "collapsed": false,
    "pycharm": {
     "name": "#%%\n"
    }
   }
  },
  {
   "cell_type": "code",
   "execution_count": 13,
   "outputs": [
    {
     "name": "stdout",
     "output_type": "stream",
     "text": [
      "[-0.00996109  0.01853905  0.04357075 -0.06149104  0.04350245  0.0757494\n",
      "  0.10162805 -0.05165766  0.02721444 -0.12090312]\n",
      "[-16.046976   -1.534591   20.914219    8.221931    1.2179637 -15.312166\n",
      " -40.591694   23.785963  -38.204758  -37.188934 ]\n",
      "46343 46343\n",
      "46343 46343\n",
      "54385\n",
      "54385\n"
     ]
    }
   ],
   "source": [
    "print(w2v_embeddings[0][:10])\n",
    "print(ft_embeddings[0][:10])\n",
    "print(sum(i in w2v_wv for i in vocab), len(vocab))\n",
    "print(sum(i in ft_wv for i in vocab), len(vocab))\n",
    "print(len(w2v_model.wv.key_to_index))\n",
    "print(len(ft_model.wv.key_to_index))"
   ],
   "metadata": {
    "collapsed": false,
    "pycharm": {
     "name": "#%%\n"
    }
   }
  },
  {
   "cell_type": "code",
   "execution_count": 8,
   "outputs": [],
   "source": [
    "vectorized = []\n",
    "indices = []\n",
    "he_tags = []\n",
    "\n",
    "statements_hist = []\n",
    "nodes_hist = []\n",
    "max_code_len = -1\n",
    "max_statement_len = -1\n",
    "\n",
    "for code in codes:\n",
    "    vectorized.append([])\n",
    "    indices.append([])\n",
    "    max_code_len = max(max_code_len, len(code))\n",
    "    statements_hist.append(len(code))\n",
    "    for statement in code:\n",
    "        vectorized[-1].append([])\n",
    "        indices[-1].append([])\n",
    "        max_statement_len = max(max_statement_len, len(statement))\n",
    "        nodes_hist.append(len(statement))\n",
    "        for token, _ in statement:\n",
    "            vectorized[-1][-1].append(token_to_id[token] + 1)\n",
    "            indices[-1][-1].append(_)\n",
    "\n",
    "for tag_list in tags:\n",
    "    he_tags.append([0] * len(labels))\n",
    "    for tag in tag_list:\n",
    "        he_tags[-1][label_to_id[tag]] = 1"
   ],
   "metadata": {
    "collapsed": false,
    "pycharm": {
     "name": "#%%\n"
    }
   }
  },
  {
   "cell_type": "code",
   "execution_count": 9,
   "outputs": [
    {
     "name": "stdout",
     "output_type": "stream",
     "text": [
      "[[42904, 37495, 39348, 31392], [17598, 37495, 39348, 39579, 31813, 39348, 15407, 369, 39348, 27426, 38499], [20827, 27039, 39348, 31504, 26696, 39348, 28003], [20153, 13402, 7760, 39348, 13578], [20827, 27039, 39348, 31504, 26696, 39348, 43119, 32881, 19995, 23058], [16983, 6594, 27508, 12262, 17431, 45960, 39348, 28003, 32881, 19995, 23058, 6957], [24890, 6594, 27508, 12262, 34159, 45960, 39348, 28003, 6957, 6957], [20153, 13402, 20363, 39348, 34040, 6506, 32881, 19995, 23058], [40782, 13707, 12262, 17876, 45960, 39348, 28003], [20153, 13402, 20363, 39348, 34040, 6506, 32881, 19995, 23058], [40782, 45960, 39348, 43119, 41822, 30129, 12262, 33392], [20153, 13402, 20363, 39348, 31533, 6506, 32881, 19995, 23058], [20153, 13402, 43739, 39348, 11792, 6506, 45960, 39348, 43119]]\n",
      "[[(1,), (2,), (3,), ()], [(1, 10), (2, 4), (3,), (), (5, 7), (6,), (), (8,), (9,), (), ()], [(1, 4), (2,), (3,), (), (5,), (6,), ()], [(1, 3), (2,), (), (4,), ()], [(1, 4), (2,), (3,), (), (5, 7), (6,), (), (8,), (9,), ()], [(1, 11), (2,), (3, 5, 8), (4,), (), (6,), (7,), (), (9,), (10,), (), ()], [(1, 8, 9), (2,), (3, 5), (4,), (), (6,), (7,), (), (), ()], [(1, 3, 5), (2,), (), (4,), (), (6,), (7,), (8,), ()], [(1,), (2, 4), (3,), (), (5,), (6,), ()], [(1, 3, 5), (2,), (), (4,), (), (6,), (7,), (8,), ()], [(1,), (2, 4), (3,), (), (5,), (6,), (7,), ()], [(1, 3, 5), (2,), (), (4,), (), (6,), (7,), (8,), ()], [(1, 3, 5), (2,), (), (4,), (), (6,), (7,), (8,), ()]]\n",
      "[[0, 0, 0, 0, 0, 0, 0, 0, 0, 0, 0, 0, 0, 1, 1, 0, 0, 0, 0], [0, 0, 0, 1, 0, 0, 0, 0, 0, 0, 0, 0, 0, 0, 0, 0, 0, 0, 0], [0, 0, 0, 0, 0, 0, 0, 0, 0, 1, 0, 0, 0, 0, 0, 0, 0, 1, 0]]\n"
     ]
    }
   ],
   "source": [
    "print(vectorized[0])\n",
    "print(indices[0])\n",
    "print(he_tags[:3])"
   ],
   "metadata": {
    "collapsed": false,
    "pycharm": {
     "name": "#%%\n"
    }
   }
  },
  {
   "cell_type": "code",
   "execution_count": 16,
   "outputs": [
    {
     "name": "stdout",
     "output_type": "stream",
     "text": [
      "56.84589076374724\n",
      "999\n"
     ]
    },
    {
     "data": {
      "text/plain": "<Figure size 432x288 with 1 Axes>",
      "image/png": "[encoded data removed]"
     },
     "metadata": {
      "needs_background": "light"
     },
     "output_type": "display_data"
    }
   ],
   "source": [
    "plt.hist(statements_hist, bins=50)\n",
    "print(np.mean(statements_hist))\n",
    "print(max_code_len)"
   ],
   "metadata": {
    "collapsed": false,
    "pycharm": {
     "name": "#%%\n"
    }
   }
  },
  {
   "cell_type": "code",
   "execution_count": 17,
   "outputs": [
    {
     "name": "stdout",
     "output_type": "stream",
     "text": [
      "8.168803995753732\n",
      "20\n"
     ]
    },
    {
     "data": {
      "text/plain": "<Figure size 432x288 with 1 Axes>",
      "image/png": "[encoded data removed]"
     },
     "metadata": {
      "needs_background": "light"
     },
     "output_type": "display_data"
    }
   ],
   "source": [
    "plt.hist(nodes_hist, bins=20)\n",
    "print(np.mean(nodes_hist))\n",
    "print(max_statement_len)"
   ],
   "metadata": {
    "collapsed": false,
    "pycharm": {
     "name": "#%%\n"
    }
   }
  },
  {
   "cell_type": "code",
   "execution_count": 10,
   "outputs": [],
   "source": [
    "def get_embedding(shape: tuple, vocab: list, input_size: int, output_size: int, shift: int = 0, pre_trained = None):\n",
    "    embedding = tf.keras.layers.Embedding(input_size, output_size, name='Tree_Embedding', mask_zero=True)\n",
    "    embedding.build(shape)\n",
    "    embedding.trainable = pre_trained is None\n",
    "    if pre_trained is not None:\n",
    "        weights = np.zeros((input_size, output_size))\n",
    "        for i, token in enumerate(vocab):\n",
    "            try:\n",
    "                weights[i + shift] = pre_trained[i]\n",
    "            except:\n",
    "                pass\n",
    "        embedding.set_weights([weights])\n",
    "    return embedding\n",
    "\n",
    "\n",
    "def get_embedding_encoder(input_shape: tuple, output_size: int):\n",
    "    inputs = tf.keras.layers.Input(input_shape)\n",
    "    outputs = tf.keras.layers.Dense(output_size)(inputs)\n",
    "    return tf.keras.Model(inputs=inputs, outputs=outputs, name='Embedding_Encoder')\n",
    "\n",
    "\n",
    "def get_statement_encoder(input_shape: tuple, filters: int):\n",
    "    inputs = tf.keras.layers.Input(input_shape)\n",
    "    x = tf.keras.layers.Conv1D(filters=filters, kernel_size=3, activation='relu', padding='same')(inputs)\n",
    "    x = tf.keras.layers.Conv1D(filters=filters, kernel_size=3, activation='relu', padding='same')(x)\n",
    "    x = tf.keras.layers.Lambda(lambda tensor: tf.math.reduce_max(tensor, axis=2))(x)\n",
    "    return tf.keras.Model(inputs=inputs, outputs=x, name='Statement_Encoder')\n",
    "\n",
    "\n",
    "def get_tree_encoder(input_shape: tuple, predict: bool = False, backbone: str = 'rnn'):\n",
    "    inputs = tf.keras.layers.Input(input_shape, name='Inputs')\n",
    "    dropout = tf.keras.layers.Dropout(0.1, name='Embedding_Dropout')(inputs)\n",
    "    if backbone == 'rnn':\n",
    "        x = tf.keras.layers.Bidirectional(\n",
    "                tf.keras.layers.RNN(tf.keras.layers.GRUCell(units=128)),\n",
    "            name='Double_Bidirectional_GRU')(dropout)\n",
    "    else:\n",
    "        n_layers = 2\n",
    "        kernels = [3, 5, 7]\n",
    "        layers = []\n",
    "        for k in kernels:\n",
    "            x = dropout\n",
    "            n = x.shape[-1]\n",
    "            for i in range(n_layers):\n",
    "                x = tf.keras.layers.Conv1D(n, k, activation=tf.keras.activations.swish, padding='same', name=f'Conv1D_{k}_{n}')(x)\n",
    "                x = tf.keras.layers.BatchNormalization(name=f'Batch_Norm_{k}_{n}')(x)\n",
    "                n *= 2\n",
    "            x = tf.keras.layers.GlobalMaxPooling1D(name=f'Max_Pool_{k}')(x)\n",
    "            layers.append(x)\n",
    "        x = tf.keras.layers.Concatenate(axis=-1, name='Pool_Concatenate')(layers)\n",
    "        x = tf.keras.layers.Dropout(0.2, name='Concatenate_Dropout')(x)\n",
    "    if predict:\n",
    "        x = tf.keras.layers.Dense(units=len(labels), activation='sigmoid', name='Prediction')(x)\n",
    "    return tf.keras.models.Model(inputs=inputs, outputs=x, name='Tree_Encoder')"
   ],
   "metadata": {
    "collapsed": false,
    "pycharm": {
     "name": "#%%\n"
    }
   }
  },
  {
   "cell_type": "code",
   "execution_count": 11,
   "outputs": [],
   "source": [
    "class StatementDataset(tf.keras.utils.Sequence):\n",
    "    def __init__(self, vectorized, indices, he_tags, batch_size):\n",
    "        self.vectorized = vectorized\n",
    "        self.indices = indices\n",
    "        self.he_tags = he_tags\n",
    "        self.batch_size = batch_size\n",
    "        self.shuffle()\n",
    "\n",
    "    def __len__(self):\n",
    "        return (len(self.vectorized) + self.batch_size - 1) // self.batch_size\n",
    "\n",
    "    def __getitem__(self, idx):\n",
    "        start = idx * self.batch_size\n",
    "        end = (idx + 1) * self.batch_size\n",
    "        vectorized_batch = vectorized[start:end]\n",
    "        indices_batch = indices[start:end]\n",
    "        he_tags_batch = he_tags[start:end]\n",
    "\n",
    "        max_len = max(len(j) for i in vectorized_batch for j in i)\n",
    "        code_batch = tf.keras.preprocessing.sequence.pad_sequences(\n",
    "            [tf.keras.preprocessing.sequence.pad_sequences(i, padding='post', maxlen=max_len) for i in vectorized_batch],\n",
    "            padding='post'\n",
    "        )\n",
    "        code_batch = code_batch[:,1:129]\n",
    "        indices_batch = [[i[j] for j in range(1, min(129, len(i)))] for i in indices_batch]\n",
    "        return (code_batch, indices_batch), he_tags_batch\n",
    "\n",
    "    def shuffle(self):\n",
    "        indices = np.arange(len(self.vectorized))\n",
    "        np.random.shuffle(indices)\n",
    "\n",
    "        self.vectorized = [self.vectorized[i] for i in indices]\n",
    "        self.indices = [self.indices[i] for i in indices]\n",
    "        self.he_tags = [self.he_tags[i] for i in indices]\n",
    "\n",
    "    def on_epoch_end(self):\n",
    "        self.shuffle()"
   ],
   "metadata": {
    "collapsed": false,
    "pycharm": {
     "name": "#%%\n"
    }
   }
  },
  {
   "cell_type": "code",
   "execution_count": 12,
   "outputs": [],
   "source": [
    "shift = 1\n",
    "emb_input_size = len(vocab) + shift\n",
    "emb_output_size = 192\n",
    "emb_encoder_output_size = 128\n",
    "backbone = 'cnn'\n",
    "path = f'java_statements_model_revisited/{backbone}'\n",
    "\n",
    "def calc_logits(code_batch, indices_batch, embedding, embedding_encoder_model, tree_encoder_model):\n",
    "    # b: code_batch length\n",
    "    # n: code_batch.shape[1] -- number of sequences in code\n",
    "    # m: code_batch.shape[2] -- number of statements in sequence\n",
    "    # e: embedding vector size\n",
    "    # code_batch: (b, n, m,)\n",
    "    # encoded: (b, n, m, e,)\n",
    "    encoded = embedding_encoder_model(embedding(code_batch), training=True)\n",
    "    encoded_as_list = [[[encoded[i, j, k] for k in range(code_batch.shape[2])] for j in range(code_batch.shape[1])] for i in range(len(code_batch))]\n",
    "    # statement encoding over known embeddings\n",
    "    for i in range(len(indices_batch)):\n",
    "        for j in range(len(indices_batch[i])):\n",
    "            for k in range(len(indices_batch[i][j]) - 1, -1, -1):\n",
    "                children = indices_batch[i][j][k]\n",
    "                if not children:\n",
    "                    continue\n",
    "                encoded_as_list[i][j][k] = tf.reduce_sum([\n",
    "                    encoded_as_list[i][j][k],\n",
    "                    *(encoded_as_list[i][j][l] for l in children)\n",
    "                ], axis=0)\n",
    "    pooled = tf.math.reduce_max(encoded_as_list, axis=2)\n",
    "    logits = tree_encoder_model(pooled, training=True)\n",
    "    return logits\n",
    "\n",
    "\n",
    "def calc_loss(y_true, y_pred, metrics=None):\n",
    "    metrics = metrics or []\n",
    "    loss = tf.math.reduce_mean(tf.keras.losses.binary_crossentropy(y_true, y_pred))\n",
    "    for metric in metrics:\n",
    "        metric.update_state(y_true, y_pred)\n",
    "    return loss\n",
    "\n",
    "\n",
    "def tree_encoding_step(optimizer, code_batch, indices_batch, he_tags_batch, metrics):\n",
    "    with tf.GradientTape() as tape:\n",
    "        logits = calc_logits(code_batch, indices_batch,\n",
    "                             embedding, embedding_encoder_model, tree_encoder_model)\n",
    "        loss = calc_loss(he_tags_batch, logits, metrics)\n",
    "        trainable_weights = tree_encoder_model.trainable_weights + embedding_encoder_model.trainable_weights\n",
    "    grads = tape.gradient(loss, trainable_weights)\n",
    "    optimizer.apply_gradients(zip(grads, trainable_weights))\n",
    "    return loss\n",
    "\n",
    "\n",
    "def models_parallel_train(epochs: int, batch_size: int):\n",
    "    # split data\n",
    "    vectorized_train, vectorized_test, \\\n",
    "    indices_train, indices_test, \\\n",
    "    he_tags_train, he_tags_test = \\\n",
    "        sklearn.model_selection.train_test_split(vectorized,\n",
    "                                                 indices,\n",
    "                                                 he_tags)\n",
    "\n",
    "    # create datasets\n",
    "    train_dataset = StatementDataset(vectorized_train, indices_train, he_tags_train, batch_size=batch_size)\n",
    "    test_dataset = StatementDataset(vectorized_test, indices_test, he_tags_test, batch_size=batch_size)\n",
    "\n",
    "    # create handlers for logging\n",
    "    os.makedirs(path, exist_ok=True)\n",
    "    train_loss_log = open(os.path.join(path, 'train_loss.txt'), 'w', encoding='utf-8')\n",
    "    train_f1_log   = open(os.path.join(path, 'train_f1.txt'),   'w', encoding='utf-8')\n",
    "    test_loss_log  = open(os.path.join(path, 'test_loss.txt'),  'w', encoding='utf-8')\n",
    "    test_f1_log    = open(os.path.join(path, 'test_f1.txt'),    'w', encoding='utf-8')\n",
    "\n",
    "    try:\n",
    "        optimizer = tf.keras.optimizers.Adamax(learning_rate=2e-3)\n",
    "        metrics = [tfa.metrics.F1Score(len(labels), average='macro')]\n",
    "        for epoch in tqdm.trange(epochs):\n",
    "\n",
    "            #train\n",
    "            loss = 0\n",
    "            pbar = tqdm.tqdm(enumerate(train_dataset), total=len(train_dataset))\n",
    "            for step, ((code_batch, indices_batch), he_tags_batch) in pbar:\n",
    "                loss_value = tree_encoding_step(optimizer,\n",
    "                                                code_batch,\n",
    "                                                indices_batch,\n",
    "                                                he_tags_batch,\n",
    "                                                metrics)\n",
    "                loss += loss_value.numpy()\n",
    "                mean_loss = f'{loss / (step + 1):.3f}'\n",
    "                f1_score = f'{metrics[0].result().numpy():.3f}'\n",
    "                pbar.set_description(f'[TRAIN] | Loss: {mean_loss}; F1: {f1_score}')\n",
    "                if step % 100 == 0:\n",
    "                    train_loss_log.write(f'{mean_loss} ')\n",
    "                    train_f1_log.write(f'{f1_score} ')\n",
    "            train_loss_log.write('\\n')\n",
    "            train_f1_log.write('\\n')\n",
    "\n",
    "            # save\n",
    "            embedding_encoder_model.save(os.path.join(path, f'embedding_encoder_weights_{total_epochs + epoch}'))\n",
    "            tree_encoder_model.save(os.path.join(path, f'statement_tree_encoder_weights_{total_epochs + epoch}'))\n",
    "\n",
    "            # reset metrics\n",
    "            for metric in metrics:\n",
    "                metric.reset_state()\n",
    "\n",
    "            # test\n",
    "            loss = 0\n",
    "            pbar = tqdm.tqdm(enumerate(test_dataset), total=len(test_dataset))\n",
    "            for step, ((code_batch, indices_batch), he_tags_batch) in pbar:\n",
    "                logits = calc_logits(code_batch, indices_batch,\n",
    "                                     embedding, embedding_encoder_model, tree_encoder_model)\n",
    "                loss_value = calc_loss(he_tags_batch, logits, metrics)\n",
    "                loss += loss_value.numpy()\n",
    "                mean_loss = f'{loss / (step + 1):.3f}'\n",
    "                f1_score = f'{metrics[0].result().numpy():.3f}'\n",
    "                pbar.set_description(f'[TEST] | Loss: {mean_loss}; F1: {f1_score}')\n",
    "\n",
    "            test_loss_log.write(f'{loss / len(test_dataset)}\\n')\n",
    "            test_f1_log.write(f'{metrics[0].result().numpy():.3f}\\n')\n",
    "\n",
    "            # reset metrics\n",
    "            for metric in metrics:\n",
    "                metric.reset_state()\n",
    "\n",
    "            train_loss_log.flush()\n",
    "            train_f1_log.flush()\n",
    "            test_loss_log.flush()\n",
    "            test_f1_log.flush()\n",
    "            train_dataset.on_epoch_end()\n",
    "    finally:\n",
    "        train_loss_log.close()\n",
    "        train_f1_log.close()\n",
    "        test_loss_log.close()\n",
    "        test_f1_log.close()\n",
    "\n",
    "\n",
    "embedding = get_embedding(shape=(None, None, None),\n",
    "                          input_size=emb_input_size,\n",
    "                          output_size=emb_output_size,\n",
    "                          pre_trained=ft_embeddings,\n",
    "                          shift=1,\n",
    "                          vocab=vocab)\n",
    "embedding_encoder_model = get_embedding_encoder(input_shape=(None, None, emb_output_size),\n",
    "                                                output_size=emb_encoder_output_size)\n",
    "tree_encoder_model = get_tree_encoder(input_shape=(None, emb_encoder_output_size),\n",
    "                                      predict=True, backbone=backbone)\n",
    "\n",
    "total_epochs = 0"
   ],
   "metadata": {
    "collapsed": false,
    "pycharm": {
     "name": "#%%\n"
    }
   }
  },
  {
   "cell_type": "code",
   "execution_count": 69,
   "outputs": [
    {
     "name": "stdout",
     "output_type": "stream",
     "text": [
      "WARNING:tensorflow:No training configuration found in save file, so the model was *not* compiled. Compile it manually.\n"
     ]
    },
    {
     "name": "stderr",
     "output_type": "stream",
     "text": [
      "WARNING:tensorflow:No training configuration found in save file, so the model was *not* compiled. Compile it manually.\n",
      "WARNING:absl:Importing a function (__inference_Conv1D_3_128_layer_call_and_return_conditional_losses_1294348935) with ops with custom gradients. Will likely fail if a gradient is requested.\n",
      "WARNING:absl:Importing a function (__inference_Conv1D_5_128_layer_call_and_return_conditional_losses_1294350725) with ops with custom gradients. Will likely fail if a gradient is requested.\n",
      "WARNING:absl:Importing a function (__inference_Conv1D_7_128_layer_call_and_return_conditional_losses_1294350755) with ops with custom gradients. Will likely fail if a gradient is requested.\n",
      "WARNING:absl:Importing a function (__inference__wrapped_model_1294347835) with ops with custom gradients. Will likely fail if a gradient is requested.\n",
      "WARNING:absl:Importing a function (__inference_Conv1D_5_256_layer_call_and_return_conditional_losses_1294349016) with ops with custom gradients. Will likely fail if a gradient is requested.\n",
      "WARNING:absl:Importing a function (__inference_Conv1D_7_128_layer_call_and_return_conditional_losses_1294348881) with ops with custom gradients. Will likely fail if a gradient is requested.\n",
      "WARNING:absl:Importing a function (__inference_Tree_Encoder_layer_call_and_return_conditional_losses_1294350638) with ops with custom gradients. Will likely fail if a gradient is requested.\n",
      "WARNING:absl:Importing a function (__inference_Conv1D_3_256_layer_call_and_return_conditional_losses_1294349043) with ops with custom gradients. Will likely fail if a gradient is requested.\n",
      "WARNING:absl:Importing a function (__inference_Conv1D_5_128_layer_call_and_return_conditional_losses_1294348908) with ops with custom gradients. Will likely fail if a gradient is requested.\n",
      "WARNING:absl:Importing a function (__inference_Conv1D_3_256_layer_call_and_return_conditional_losses_1294351025) with ops with custom gradients. Will likely fail if a gradient is requested.\n",
      "WARNING:absl:Importing a function (__inference_Conv1D_7_256_layer_call_and_return_conditional_losses_1294348989) with ops with custom gradients. Will likely fail if a gradient is requested.\n",
      "WARNING:absl:Importing a function (__inference_Conv1D_3_128_layer_call_and_return_conditional_losses_1294350695) with ops with custom gradients. Will likely fail if a gradient is requested.\n",
      "WARNING:absl:Importing a function (__inference_Conv1D_7_256_layer_call_and_return_conditional_losses_1294351085) with ops with custom gradients. Will likely fail if a gradient is requested.\n",
      "WARNING:absl:Importing a function (__inference_Conv1D_5_256_layer_call_and_return_conditional_losses_1294351055) with ops with custom gradients. Will likely fail if a gradient is requested.\n",
      "WARNING:absl:Importing a function (__inference_Tree_Encoder_layer_call_and_return_conditional_losses_1294350321) with ops with custom gradients. Will likely fail if a gradient is requested.\n"
     ]
    },
    {
     "name": "stdout",
     "output_type": "stream",
     "text": [
      "WARNING:tensorflow:No training configuration found in save file, so the model was *not* compiled. Compile it manually.\n"
     ]
    },
    {
     "name": "stderr",
     "output_type": "stream",
     "text": [
      "WARNING:tensorflow:No training configuration found in save file, so the model was *not* compiled. Compile it manually.\n"
     ]
    }
   ],
   "source": [
    "# total_epochs = 4\n",
    "# embedding_encoder_model = tf.keras.models.load_model(f'{path}/embedding_encoder_weights_{total_epochs - 1}')\n",
    "# tree_encoder_model = tf.keras.models.load_model(f'{path}/statement_tree_encoder_weights_{total_epochs - 1}')"
   ],
   "metadata": {
    "collapsed": false,
    "pycharm": {
     "name": "#%%\n"
    }
   }
  },
  {
   "cell_type": "code",
   "execution_count": null,
   "outputs": [
    {
     "data": {
      "text/plain": "  0%|          | 0/5 [00:00<?, ?it/s]",
      "application/vnd.jupyter.widget-view+json": {
       "version_major": 2,
       "version_minor": 0,
       "model_id": "a6aee845f11e40ac8f307045e04b93c5"
      }
     },
     "metadata": {},
     "output_type": "display_data"
    },
    {
     "data": {
      "text/plain": "  0%|          | 0/9101 [00:00<?, ?it/s]",
      "application/vnd.jupyter.widget-view+json": {
       "version_major": 2,
       "version_minor": 0,
       "model_id": "ea95bf02cf994c08b39057a9d2929327"
      }
     },
     "metadata": {},
     "output_type": "display_data"
    },
    {
     "name": "stdout",
     "output_type": "stream",
     "text": [
      "WARNING:tensorflow:Compiled the loaded model, but the compiled metrics have yet to be built. `model.compile_metrics` will be empty until you train or evaluate the model.\n",
      "INFO:tensorflow:Assets written to: java_statements_model_revisited/cnn\\embedding_encoder_weights_0\\assets\n",
      "WARNING:tensorflow:Compiled the loaded model, but the compiled metrics have yet to be built. `model.compile_metrics` will be empty until you train or evaluate the model.\n"
     ]
    },
    {
     "name": "stderr",
     "output_type": "stream",
     "text": [
      "WARNING:absl:Function `_wrapped_model` contains input name(s) Inputs with unsupported characters which will be renamed to inputs in the SavedModel.\n"
     ]
    },
    {
     "name": "stdout",
     "output_type": "stream",
     "text": [
      "INFO:tensorflow:Assets written to: java_statements_model_revisited/cnn\\statement_tree_encoder_weights_0\\assets\n"
     ]
    },
    {
     "name": "stderr",
     "output_type": "stream",
     "text": [
      "INFO:tensorflow:Assets written to: java_statements_model_revisited/cnn\\statement_tree_encoder_weights_0\\assets\n",
      "d:\\git\\yepcode\\venv\\lib\\site-packages\\tensorflow\\python\\keras\\metrics.py:254: UserWarning: Metric F1Score implements a `reset_states()` method; rename it to `reset_state()` (without the final \"s\"). The name `reset_states()` has been deprecated to improve API consistency.\n",
      "  warnings.warn('Metric %s implements a `reset_states()` method; rename it '\n"
     ]
    },
    {
     "data": {
      "text/plain": "  0%|          | 0/3034 [00:00<?, ?it/s]",
      "application/vnd.jupyter.widget-view+json": {
       "version_major": 2,
       "version_minor": 0,
       "model_id": "6453530c04ed4be0a225ceb9703d888f"
      }
     },
     "metadata": {},
     "output_type": "display_data"
    },
    {
     "data": {
      "text/plain": "  0%|          | 0/9101 [00:00<?, ?it/s]",
      "application/vnd.jupyter.widget-view+json": {
       "version_major": 2,
       "version_minor": 0,
       "model_id": "bd08d0e26384481cb5cd595a12ed19e6"
      }
     },
     "metadata": {},
     "output_type": "display_data"
    }
   ],
   "source": [
    "models_parallel_train(epochs=5, batch_size=4)"
   ],
   "metadata": {
    "collapsed": false,
    "pycharm": {
     "name": "#%%\n",
     "is_executing": true
    }
   }
  },
  {
   "cell_type": "code",
   "execution_count": null,
   "outputs": [],
   "source": [
    "# def get_combined_model(input_shape: tuple, embedding, encoder, statement_encoder, tree_encoder):\n",
    "#     inputs = tf.keras.layers.Input(input_shape, name='Statement_Trees')\n",
    "#     x = embedding(inputs)\n",
    "#     x = encoder(x)\n",
    "#     x = statement_encoder(x)\n",
    "#     x = tree_encoder(x)\n",
    "#     x = tf.keras.layers.Dense(units=256, activation=tf.keras.activations.swish, name='Dense')(x)\n",
    "#     x = tf.keras.layers.Dense(units=len(labels), activation='sigmoid', name='Prediction')(x)\n",
    "#     model = tf.keras.models.Model(inputs=inputs, outputs=x, name='PSLNN_Combined')\n",
    "#     model.summary()\n",
    "#     model.compile(optimizer='adam', loss='binary_crossentropy')\n",
    "#     return model\n",
    "\n",
    "# def statement_encoding(epochs: int, batch_size: int):\n",
    "#     loss_fn = tf.keras.losses.CategoricalCrossentropy()\n",
    "#     optimizer = tf.keras.optimizers.Adam()\n",
    "#\n",
    "#     for epoch in tqdm.trange(epochs):\n",
    "#         vectorized_batches = batch(vectorized, batch_size)\n",
    "#         indices_batches = batch(indices, batch_size)\n",
    "#         he_tags_batches = batch(he_tags, batch_size)\n",
    "#         pbar = tqdm.tqdm(enumerate(zip(vectorized_batches, indices_batches, he_tags_batches)), total=len(vectorized) // batch_size)\n",
    "#         for step, (vectorized_batch, indices_batch, he_tags_batch) in pbar:\n",
    "#             max_len = max(len(j) for i in vectorized_batch for j in i)\n",
    "#             code_batch = tf.keras.preprocessing.sequence.pad_sequences(\n",
    "#                 [tf.keras.preprocessing.sequence.pad_sequences(i, padding='post', maxlen=max_len) for i in vectorized_batch],\n",
    "#                 padding='post'\n",
    "#             )\n",
    "#             with tf.GradientTape() as tape:\n",
    "#                 # m: max_len\n",
    "#                 # code_batch: b x n x m\n",
    "#                 # encoded: b x n x m x e\n",
    "#                 encoded = encoder_model(embedding(code_batch), training=True)\n",
    "#                 pooled = statement_encoder_model(encoded, training=True)\n",
    "#                 #logits = model(pooled, training=True)\n",
    "#                 #loss_value = loss_fn(he_tags_batch, logits)\n",
    "#\n",
    "#             #grads = tape.gradient(loss_value, model.trainable_weights + encoder_model.trainable_weights)\n",
    "#             #optimizer.apply_gradients(zip(grads, model.trainable_weights + encoder_model.trainable_weights))\n",
    "#             #pbar.set_description(str(loss_value.numpy()))"
   ],
   "metadata": {
    "collapsed": false,
    "pycharm": {
     "name": "#%%\n"
    }
   }
  },
  {
   "cell_type": "code",
   "execution_count": null,
   "outputs": [],
   "source": [
    "# class FlatteningDataset(tf.keras.utils.Sequence):\n",
    "#     def __init__(self, vectorized, indices, he_tags, batch_size):\n",
    "#         self.vectorized = vectorized\n",
    "#         self.indices = indices\n",
    "#         self.he_tags = he_tags\n",
    "#         self.batch_size = batch_size\n",
    "#\n",
    "#     def __len__(self):\n",
    "#         return (len(self.vectorized) + self.batch_size - 1) // self.batch_size\n",
    "#\n",
    "#     def __getitem__(self, idx):\n",
    "#         start = idx * self.batch_size\n",
    "#         end = (idx + 1) * self.batch_size\n",
    "#         vectorized_batch = vectorized[start:end]\n",
    "#         indices_batch = indices[start:end]\n",
    "#         he_tags_batch = he_tags[start:end]\n",
    "#\n",
    "#         vectorized_batch = [[st for sequence in code for st in sequence] for code in vectorized_batch]\n",
    "#         code_batch = tf.keras.preprocessing.sequence.pad_sequences(vectorized_batch, maxlen=1024, padding='post')\n",
    "#         return code_batch, np.array(he_tags_batch)\n",
    "#\n",
    "#     def on_epoch_end(self):\n",
    "#         pass\n",
    "\n",
    "# shift = 1\n",
    "# emb_input_size = len(vocab) + shift\n",
    "# emb_output_size = 192\n",
    "#\n",
    "# flat_model = get_flat_model(input_shape=(None,),\n",
    "#                             embedding=get_embedding(shape=(None, None),\n",
    "#                                                     vocab=vocab,\n",
    "#                                                     input_size=emb_input_size,\n",
    "#                                                     output_size=emb_output_size,\n",
    "#                                                     shift=shift,\n",
    "#                                                     pre_trained=ft_embeddings))\n",
    "#\n",
    "# flat_dataset = FlatteningDataset(vectorized, indices, he_tags, batch_size=8)\n",
    "#\n",
    "# emb_encoder_output_size = 128"
   ],
   "metadata": {
    "collapsed": false,
    "pycharm": {
     "name": "#%%\n"
    }
   }
  }
 ],
 "metadata": {
  "kernelspec": {
   "display_name": "Python 3",
   "language": "python",
   "name": "python3"
  },
  "language_info": {
   "codemirror_mode": {
    "name": "ipython",
    "version": 2
   },
   "file_extension": ".py",
   "mimetype": "text/x-python",
   "name": "python",
   "nbconvert_exporter": "python",
   "pygments_lexer": "ipython2",
   "version": "2.7.6"
  }
 },
 "nbformat": 4,
 "nbformat_minor": 0
}