{
 "cells": [
  {
   "cell_type": "code",
   "execution_count": 53,
   "metadata": {
    "collapsed": true
   },
   "outputs": [],
   "source": [
    "import numpy as np\n",
    "import tensorflow as tf\n",
    "import tqdm.notebook as tqdm\n",
    "import os\n",
    "import json\n",
    "from gensim.models import Word2Vec, FastText"
   ]
  },
  {
   "cell_type": "code",
   "execution_count": 54,
   "outputs": [],
   "source": [
    "def read(path_with_everything: str):\n",
    "    codes = []\n",
    "    tags = []\n",
    "    for contest_folder in os.listdir(path_with_everything):\n",
    "        contest_path = os.path.join(path_with_everything, contest_folder)\n",
    "        if not os.path.isdir(contest_path):\n",
    "            continue\n",
    "        meta_json = json.load(open(os.path.join(contest_path, 'meta.json'), 'r', encoding='utf-8'))\n",
    "        submissions = meta_json['Submissions']\n",
    "        for s in submissions.values():\n",
    "            flattened_tree_path = os.path.join(contest_path, 'java', f'{s[\"Id\"]}.java.ast.stm.flat')\n",
    "            if not os.path.exists(flattened_tree_path):\n",
    "                continue\n",
    "\n",
    "            tags.append(s['Tags'])\n",
    "            statements = open(flattened_tree_path, 'r', encoding='utf-8').read().strip('\\n').split('\\n\\n')\n",
    "            codes.append([])\n",
    "            for stm in statements:\n",
    "                codes[-1].append([])\n",
    "                for i in stm.split('\\n'):\n",
    "                    try:\n",
    "                        token, children = i.split('\\t')\n",
    "                        children = tuple(map(int, children.split())) if children else ()\n",
    "                        codes[-1][-1].append((token, children))\n",
    "                    except:\n",
    "                        print(flattened_tree_path, stm, i, sep='\\n\\n')\n",
    "    return codes, tags"
   ],
   "metadata": {
    "collapsed": false,
    "pycharm": {
     "name": "#%%\n"
    }
   }
  },
  {
   "cell_type": "code",
   "execution_count": 55,
   "outputs": [],
   "source": [
    "codes, tags = read('utils/samples/Codeforces/Yoink-Data')"
   ],
   "metadata": {
    "collapsed": false,
    "pycharm": {
     "name": "#%%\n"
    }
   }
  },
  {
   "cell_type": "code",
   "execution_count": 56,
   "outputs": [
    {
     "data": {
      "text/plain": "{'isStart',\n 'testHash',\n 'resa',\n 'sTree',\n 'dpNext',\n '17L',\n 'B_493',\n '.5',\n '\"fir=\"',\n 'D1005',\n 'intIn',\n 'A_493',\n 'nextDouble',\n 'mx_ind',\n '2833',\n 'salida',\n 'diez',\n 'nastiaandagoodarray',\n 'mostTimes',\n 'currBest',\n 'cdf720a',\n 'stack_r',\n 'tipolimite',\n 'FenvikMax',\n '100003L',\n '\"1 3 4\"',\n 'perf',\n 'STD',\n 'ADD_ARRAY_LIST',\n 'cutCosts',\n 'YaponskiiKrosvord',\n '1000000411',\n 'Larr',\n 'bit_pos',\n 'TIME_END',\n 'scanString',\n 'hz',\n 'firstapp',\n 'alphabet',\n 'CYetAnotherCardDeck',\n 'upVote',\n 'afteroff',\n 'Perfectly_Imperfect_Array',\n 'finalCuts',\n 'Task_1520',\n '13456789',\n '44444444',\n 'nb1',\n 'pomXor',\n 'nel',\n 'idm',\n 'baki',\n 'prYN',\n '50000',\n 'msub',\n 'itemCount',\n 'arri',\n 'pts',\n 'bestAdvance',\n 'removeDuplicates',\n 'pre422',\n 'subString1',\n 'LinkedList',\n 'TaskE1',\n '\" r:\"',\n 'RANGE',\n 'xDec',\n '0.000000000005d',\n 'rightsheeps',\n 'toD',\n 'readTree',\n '521',\n '109',\n 'outputReader',\n '0.000000000000000009d',\n 'swapArray',\n 'r1',\n 'Shirts',\n 'A_TanyaAndStairways',\n 'lol2',\n 'valp',\n 'add2',\n 'sameDifference',\n 'cst',\n 'C1000',\n 'AnotherApproach',\n 'numPossibleHotels',\n 'Polycrap',\n '1109',\n '313',\n 'checkFromLast',\n 'repeatCount',\n 'JFirst',\n 'leftTIndex',\n 'addBiEdge',\n 'numOfT',\n 'mypow',\n 'AGAGA',\n 'zerosizq',\n 'UnionFind16',\n 'p0',\n 'maxBInBag',\n 'round',\n 'curElement',\n 'ProblemC',\n 'nextPowerOf2',\n 'subset',\n 'no',\n '452940277L',\n 'newR',\n '\"YeS\"',\n 'couch',\n 'gB',\n '\"ascii\"',\n 'totalNumbers',\n 'modPow',\n '\"%d\"',\n 'rid',\n 'Application',\n 'v2x',\n 'L_ON',\n 'printG',\n '3491',\n 'sqrt',\n 'currentEdge',\n 'eh',\n 'modularAddition',\n 'Polynom',\n '\"/output.txt\"',\n 'doublesum',\n 'compareSlices',\n 'sqRootOfNum',\n 'firstEdge',\n 'E1511',\n 'metha',\n 'OutputStreamWriter',\n 'Program',\n 'dataNum',\n 'oddNumPairs',\n 'JavaTract',\n '53897',\n 'Holder',\n 'returned',\n '\", val=\"',\n 'Round715A',\n 'javacp',\n 'retainAll',\n 'ale',\n '\"Provided argument is a number, \"',\n 'muutos',\n 'game',\n 'nextArray2D',\n 'rightH',\n 'at1',\n 'gd',\n 'getrev',\n 'tsr',\n 'CF1509E',\n 'ch2',\n 'buildTreeHelper',\n 'evenNumCount',\n '\"(%s--> %s)\"',\n 'allOnes',\n 'n_a',\n '1613',\n 'turnOnLastConsecutiveZeroes',\n '15528329',\n 'solve3',\n 'maxlit',\n 'problems',\n 'markMade',\n 'bals',\n 'binary_literature',\n 'groups',\n 'D1519',\n '6789',\n 'smallestTower',\n 'problem10_1509',\n 'CodeForces_A3',\n 'cf1520d',\n 'initialSum',\n 'MMain',\n 'evenIndex',\n 'NavigableMap',\n 'B1520OrdinaryNumbers2',\n 'v5',\n 'minlong',\n 'newli',\n 'firstDivisible',\n 'lastPos',\n 'm',\n 'descendingKeySet',\n 'mFound',\n 'iter',\n '\"\\'|0p]1w;Ulg{*[aHODXhz3pP*(h*F\\'p@nwvO/j]<1\\'7)>cXK%1-amh<Ulc=kg3eg,p`g]T[~w8Uh#by{yGJ.d1P+>?0\\'0Ty7MpQTTy*oVk0}M71P93-hfLzz&uRZ22b{F7&BK*C|qag]tUaiEE4mPr5&5A}Nzc_p9SKSFvXGwxV>&rwSj1G3wL)v:&=mHkaFyyO0n&fMRUwSMMl(U^92ngs8/b%fpj!padysC?/w{W7Wt^Ki&q{(&r:TE((Mt0t#BPa%@V<8n*0\\'JN$v[(YGMF2X3WlC{+K9Y+)_mH,p-#Gz^5^JYN^x`<01lt9x@50?{e?hI))K*mlul*/0a:\"',\n 'binaryradix',\n 'EnumBody',\n 'Product_1_modulo_name',\n 'CodingLegacy',\n 'needMiddle',\n 'moneyLeftOverAfterDenomination',\n 'ansp',\n '999999999',\n 'DMinCostString',\n 'evaln',\n 'addBR',\n '967',\n 'CSkyFullOfStars',\n '\"11 99999999\"',\n 'queues',\n 'bNum',\n 'root.in',\n 'savedIndex',\n 'Euclid',\n 'C1519EvenBetter',\n 'nextLing',\n 'CodeForces1516B',\n 'nonDecreasing',\n 'A_Balloons',\n 'fastIO',\n 'reset',\n 'nowList',\n 'InputStream',\n 'joinString',\n 'nodeQ',\n 'runtest',\n 'hypod',\n 'secondUpVote',\n 'Lot',\n 'TryStatement',\n 'sort2darray',\n '\"abcdefghijklmnopqrstuvwxyz\"',\n 'm2',\n '88888',\n 'A1511',\n '\"#GLyddH[O!u?{)K0R67YGycsb&dXoVMf)l7^]Vy(k@0`7;#{17?@N2:ZeaQ;&!}[*YgqJ$h/7=o`_|ct,O9+JMq*`^G0*M-lH;N?kceK6bF.\\'.RQj|p\\'sb/u?d<T83{!~C44*T8j_bQ<aKs~YF)@X$?X!e3qd[}j:@@{ZM~&_Di<A_ybp#6%\\'eG!k,vEJ!l1V<Q!6--5>)r|=6-o+CV6q,*:Mk@c@fg.Xu|**<):9YCfvsDd`%dB#C={vp}M#x_g1MGRLBg!P_#yY`hs)6BybDC=b+Qo\"',\n 'tokenize',\n 'totalStudent',\n 'threePowerN',\n 'columnsNumber',\n '\"\\\\\\\\r\"',\n 'tempcol',\n '\"Node [v=\"',\n '\"Index %d out of bounds for the range [%d, %d].\"',\n 'assert_in_range',\n 'debugmode',\n 'fail',\n 'questionCF',\n 'removeZeros',\n 'inter',\n 'foundMax',\n 'Ordinary_Numbers',\n 'Machine',\n '\"krit\"',\n 'reverses',\n 'curVal',\n '991',\n 'maxProduct',\n 'lastEnd',\n 'p1520D',\n 'getCum',\n 'px',\n 'pointer1',\n 'NewClass5',\n 'reflected',\n 'cntBarriers',\n 'getMaxVal',\n 'ReverSort',\n 'xora',\n '3083',\n 'lCount',\n '\"t\"',\n '\"cf4\"',\n 'firstComeInTime',\n 'PX',\n 'filter',\n '100002',\n 'linkedList',\n '2459',\n 'CF1',\n 'B_Phoenix_and_Puzzle',\n 'breakTester',\n 'vec',\n 'cont720A',\n 't2',\n '\"E:\\\\\\\\DATABASE\\\\\\\\TESTCASE\\\\\\\\CR46A.out\"',\n '4005',\n '0.000007d',\n 'getIthBitFromInt',\n 'rightSide',\n 'rd',\n 'problem495_B',\n 'pivoti',\n 'cEnd',\n 'start2',\n '33333333',\n 'doubleArray',\n 'nextPowerOfTwo',\n 'c_start',\n 'sBufferedReader',\n 'setPriority',\n '977',\n 'remainingAmount',\n 'p001514B',\n 'Method',\n 'cnte',\n 'Not_adjacent_matrix',\n '880',\n 'nonequalind',\n 'three2',\n 'TT_EOF',\n 'ConvertToOnes',\n 'mins',\n 'anc',\n 'temp_total_',\n 'cur_on',\n 'school',\n 'DCutAndStick',\n 'mat2',\n '\"}\"',\n '\"{\"',\n 'rac',\n 'getRes',\n 'printLines',\n 'maxS',\n 'generatePOWER2',\n 'finalVal2',\n 'ideone8',\n 'agekaeven',\n '2593',\n 'genSmart',\n 'tempNaborNum',\n 'addEdgeUndirected',\n '\"^>3@osGB*<Q1%xC[$AZQazOp@SZS&mh!vvaY%?dmK}]]43CG~<|]4QyRDZ|31myYfNpG.^9HhG4b*n1I~@Vd..-3a=NFr)]$QVfwsCpo!hb+.;tf9gu&b#Vn!$}swDZt@h&Ln1$/d&K_Y{;tKTLWU=v~h1Q5C%v,I_R(tpB\\'yZIpZ<4gbP;^&+=]w@M-RQ/V5G6\\'&KHM0x0=Lw:`aNS4z6:cT!t5(]O:l2{mZo89YCupkhyr8rY/w6(*~csA0dCto()kmu*AC?p0W&aj:.Sm{\"',\n 'direct',\n 'scanchar',\n 'nextBigDecimal',\n 'ip',\n 'lastOcc',\n 'tmps',\n 'charset',\n 'sty',\n 'binaryString',\n 'RedAndBlueBeans',\n 'isInstance',\n 'qNum',\n 'lXor',\n 'Try4',\n 'MAX_MOVES',\n 'prevd',\n 'Left',\n 'hmap',\n 'lotofmoney',\n 'addPoint',\n 'setBalance',\n 'IsSquare',\n 'csAssignments',\n '_t_',\n 'Element',\n 'countdiv',\n 'SumOf20501517A',\n 'prefsum',\n 'ISolver[]',\n 'Hitthelottery996A',\n 'getLong',\n 'errorprint',\n '3881',\n 'Coeff',\n 'nder',\n 'reverseNumber',\n 'f_1',\n 'money',\n 'mem',\n 'chs4',\n 'cw',\n 'hotelCoordinates',\n 'C12',\n 'B_cutting_solu',\n 'nChooseK',\n 'PhoneixAndGold',\n 'mod_sum',\n '\"1 \\\\n1\"',\n 'nextSpot',\n 'N719',\n '971',\n 'evCounter',\n 'check2',\n 'preCh',\n 'R_msd',\n 'Height',\n 'kol',\n 'US_ASCII',\n 'verdict',\n 'originalOffset',\n '\"%p%8Rcx~SIuxqTE=n?~W?J-$36syElGT#mdT~oi7bRh,X5Y;\\'iSv]VQ#R^os:M~B:daTv/#{|,.3mo/.xKESf^3FtfI#95yn9{;}:\"',\n 'ruffle_sort',\n 'merge_x',\n 'nums2',\n 'ran',\n '3371',\n 'sumG',\n 'n10s',\n 'subArray',\n '3739',\n 'multisourcebfs',\n 'timeIn',\n 'index_right',\n 'usedEdge',\n 'lightPreSum',\n 'support',\n 'countP2',\n 'cval',\n 'curx',\n 'cmd',\n 'dividend',\n 'getPrimeFactors',\n 'end_row',\n '3461',\n 'rigth',\n '\"J($ts4G+1>s:%rtmu!H*(UG%HoXPAR0)(c(_mDXZW?c|1:i*0Vq!gS2c[8heGEh?-KbP[k:A=7Y<M:IG/-5F=[Z/s/;:tVgk?,$|mjYbv1fF/t[di::Kp%3}l%eC}F!RGzy/1BOwfTA#}?5$`|StC$^Jc{b(z~~ALPw/[~]WMXi+>F=3=,MXmBvf](f}cLPHp1o\"',\n 'levels',\n 'ops1',\n 'll',\n 'amn',\n 'minHeap',\n 'MOD7',\n '\"Done in \"',\n 'Solve',\n 'nextLine',\n 'o.type',\n 'resArray',\n 'here',\n 'pIndex',\n '1103',\n 'lsP',\n '\" r: \"',\n 'NaivePattern',\n '\"]\"',\n 'question4',\n 'Double',\n 'nextLongMatrix',\n 'lastKey',\n '\"Print :- \"',\n 'task2',\n 'ProductModuloN',\n '1087',\n 'costLeft',\n 'valueStart',\n '684',\n '1000005',\n 'i_ak',\n 'Event',\n 'Values',\n 'testApp',\n 'groupzero',\n '3049',\n 'printListInLine',\n 'lal',\n '\"double[][]\"',\n 'nCopies',\n 'Admatrix',\n 'packSums',\n 'is0',\n 'used',\n '_2darray',\n 'sup',\n 'Ydir8',\n 'ASumOf2050',\n '\"1$8eKLgE\\'nM]8^vi,NCMzBN{a<@{.}Yibo/OLo*`;G%v}\\'Lh~oGudWag6ECf{cpc<%]2ciRk*]k|/>y?V\"',\n 'P04',\n '4481',\n 'p1511A',\n 'countContinuousIntervalBetween',\n 'getLargestBill',\n 'sum1r',\n 'O',\n 'op2',\n 'lcaNode',\n '77777777',\n '\"B\"',\n 'subMod',\n 'occurrences',\n 'big2',\n 'c_low',\n '\"9999999 10755\"',\n 'NewClass',\n 'nthJump',\n 'B1508',\n 'ModExp',\n 'energy_lost',\n 'printer',\n 'IntRangeSet',\n '10000003',\n 'Finish',\n '\"1001 99999999\"',\n '4l',\n 'is_Euler_circuit',\n 'Value',\n 'MIN_INDEX',\n 'total',\n 'countx',\n 'maxFre',\n 'nod',\n 'mindiv',\n 'nodes2',\n 'canReach',\n 'cfc',\n 'OFFSET',\n '2719',\n '_cost',\n 'lt',\n 'cad',\n 'SameDifference',\n 'numberOfCash',\n '1033',\n 'noDig',\n 'SumOfTwentyFifty',\n 'p_arr',\n 'minBit',\n 'countFrequenceyOfEveryElement',\n 'Yo',\n '0.00000007d',\n 'divideBy2',\n 'rand',\n 'c_n_k',\n 'printAllPathsUtil',\n 'solve_n_1',\n 'nChooseI',\n 'programLength',\n '3023',\n 'nextInt2DArray',\n 'nextByteArray1',\n 'vars',\n 'oddLeft',\n 'candidateCoinWorth',\n 'bufferedReader',\n 'billers',\n 'toL',\n 'getoddeven',\n 'primePower',\n 'SoalA',\n 'oldSegmentsCnt',\n 'ceill',\n 'balloonDist',\n 'mR',\n '\"9999996 10008\"',\n '\"YES\\\\n%d %d %d\"',\n 'ProgramB',\n '2e12',\n '0.000000003d',\n 'check_start',\n 'new_val',\n 'sortbycolomn',\n 'nxtl',\n '\"1\\\\n%d\\\\n\"',\n 'splitsXId',\n 'ArraySort2D',\n 'Agaga',\n 'double[][][]',\n 'fillGraph',\n 'nff',\n '600000',\n 'works_as',\n 'spaceCount',\n 'A963',\n 'delX',\n 'TaskD',\n 'njj',\n 'affect',\n 'stops',\n '\"%d %d%n\"',\n 'bigSqrt',\n 'google',\n 'max_ans',\n 'JavaApplication85',\n '200002',\n '9223372036854775808L',\n 'yt',\n 'pow2',\n 'SOE',\n 'sumlevel',\n 'dbgra',\n 'CountCoPrimes',\n 'skills',\n 'modFact',\n 'Ord',\n 'solveF',\n 'durchlauf',\n 'exponentMod',\n 'possibleCost',\n 'numSameParity',\n '_p000996A',\n 'effectiveXOR',\n 'ib',\n 'Vector',\n 'offtime',\n 'L1',\n 'shouts',\n 'FastReaderFile',\n 'cvt',\n 'HALF',\n 'ordinaryno',\n 'Cf_global_round',\n 'readIntarray',\n 'curM',\n 'the_cake_is_lie',\n 'indLastM',\n 'temped',\n 'getExecutionTime',\n 'pows',\n 'num0',\n 'distJ',\n 'sort1',\n 'gcdlength',\n 'currd',\n 'ai2d',\n '\"101178 999999990\"',\n 'ch3',\n 'JUDGE',\n 'nCars',\n 'Q13',\n 'blocks',\n '_1517A',\n '\"VTIn9(r?$7Xx)1;w]2Jb?Slq:dcYABtAriKzhi*Y<EeU$d,W90ll?UC&x%F#O}<APi%7zTX}~W_w@D=2.8(G}e<|5LwDBqUv6Wz^]iP)JAi5I-!P9+,X810i.J%E)x:P%qBuNp(2B6J\\'A8u5?S#C+_}N>toa}ZjHW~i&a4Bsp@`b*4X=rkF?YC!r-WownGVl.Kd=4lx7=C1MwOa,.yYl<j\\'Y]EoV*2v#H0cuU`Z#;_LB_{%;<WX%<{EO[QI3{NL8b/dqMAEphBPdT{$N.1c2\"',\n 'check1',\n 'sufS',\n '2341',\n 'occurance',\n 'fmin',\n 'ay',\n 'numberOfprimeFactors',\n '0.0000000000000000003d',\n '2243',\n 'Ar',\n '3889',\n 'Tmp',\n 'verticalEdgeWeights',\n 'isAllZ2',\n 'TFT',\n 'portal',\n 'prefEdges',\n 'numOfFlowers',\n 'min_ones',\n 'A_AverageHeight',\n 'Problem1521A',\n 'q133',\n 'calcOthers',\n 'NASRAL',\n '661',\n 'rightChild',\n 'ck',\n 'timeEllap',\n 'p001519B',\n 'ref',\n 'x_max',\n '748683265',\n 'bi',\n '0xFF',\n '122',\n '\"9\"',\n 'InferredFormalParameter',\n '1000_006',\n 'mcnt',\n 'globid',\n 'lIn',\n 'fill1',\n '\"Input is to Large. Use Long.\"',\n 'du',\n 'getLast',\n '247',\n 'A_998',\n 'jumpI',\n 'addAll',\n 'after',\n 'contador5',\n 'invNrevCost',\n 'prefixsum',\n 'next2DInt',\n 'ElementValuePair',\n 'next_permutation',\n 'Div2_495F',\n '\"99999999 10000\"',\n 'max12',\n 'uu',\n 'fac',\n 'mayC',\n 'edgeWeight',\n 'freq1',\n 'BM',\n 'min_distance',\n 'sum_a',\n 'sects',\n 'getGarbageCollectorMXBeans',\n 'maker',\n 'setData',\n 'mminvprime',\n 'maxGain',\n \"'p'\",\n 'unget',\n 'signup',\n 'integ',\n 'universities',\n '\"! \"',\n 'R495A',\n 'hashFirst',\n 'parseByte',\n 'emm',\n '\"   -------\"',\n 'weights2',\n 'Source',\n 'Problem1005A',\n 'f',\n 'pulsis',\n 'A_Nastia_and_Nearly_Good_Numbers',\n 'B_',\n 'arg1',\n 'd',\n 'nroGradas',\n 'University',\n 'hor',\n 'AndZeroSumBig',\n 'variousDistance',\n 'boxed',\n 'ocl',\n 'getInverseFactorialsModulo',\n 'eval',\n 'note1',\n 'mmo',\n 'inputid',\n 'kboard',\n 'MinCost',\n 'proba',\n 'g_g14',\n 'fc_Edu',\n 'p3_715',\n 'runTCase',\n '4219',\n '2791',\n \"'v'\",\n 'sortintarray',\n 'iterator0',\n 'oj',\n 'on_state',\n 'nextElement',\n 'maxWeight',\n 'ProblemB_Cutting',\n 'secondString',\n 'Keyprv',\n 'Memo',\n 'lastIdx',\n 'sel',\n 'offsets',\n 'palin',\n 'arr7',\n 'dsuGet',\n 'cost2freq',\n '60L',\n 'Problem1000A',\n 'maxDistNode',\n '1000000000000L',\n '\"70HKkgU6by5:4,f0$nNy8E$r23AnV6/<]}dn,VzcSGf?|?ONMnvBQ,!~[;D^EQgGYAF1v&H*#I<6beWy>wv4GGKQPN7cha2hQGJ@\\'hQy>r7-CgRzW[-6$L~:Fz;I$@U@@B9F:3{8]ca+kMS<ft[|:4aC|RZ$[-n{VGAgt2U[!0F#ITV]2gC)yd8+Cze]\\'fpC[5Es`#7TBQ-;DjFpk/wGR.g,(KkRbJs.O~t`|Y2vYSV\\'B92rV%)*EM/Jqc:TMLf#|5}xGEIxt^[i1m#_5C3:8]ARRB*RO<f^,#1p>U1G/3kEN\"',\n 'rla',\n 'nlist',\n '\"D:\\\\\\\\Java-programs\\\\\\\\eclipse-workspace\\\\\\\\OLYMP\\\\\\\\src\\\\\\\\input.txt\"',\n '1117',\n 'dsorA',\n 'startj',\n 'pos',\n 'getG',\n 'newString2',\n 'upper_bound',\n 'cf996a',\n 'currLeft',\n 'prevCnt',\n '300000',\n '\"2 \"',\n 'minpos',\n 'pollLast',\n 'p.parent',\n 'nextSeen',\n 'IntegerUtils',\n 'tow',\n 'aux3',\n '1361',\n 'isValidNovel',\n 'l_m',\n '0.000000004d',\n 'prr',\n '0.0000004d',\n 'getIthBitsUtil',\n 'perfectSquere',\n '2707',\n 'suf_off',\n 'postT',\n '1007',\n 'FINISHED',\n 'dum',\n 'miny',\n 'initialK',\n 'fup',\n 'n20',\n 'ansmin',\n 'PhoenixandGold_1515A',\n 'testCaseNumber',\n '\"99999999 100001\"',\n 'f1',\n 'isposs',\n 'C101',\n 'firstArgs',\n 'findsum',\n 'pull',\n 'i_indexs',\n 'makeset',\n 'nmxy',\n '\"NO\"',\n 'countSetBitsUtil',\n 'seiveOfEratoSthenes',\n 'CF998C',\n 'nbr',\n 'getLineNumber',\n 'Matcher',\n 'fistKey',\n 'closestBill',\n 'numComp',\n 'chef',\n 'currenttow',\n 'loc',\n 'countered',\n 'metal',\n 'prevOne',\n 'BTMTDocument',\n 'largestPower',\n '\"po\"',\n '2767',\n 'Div2_Round_720_7',\n 'ifac',\n 'am',\n 'sz_',\n 'countDigits',\n 'AhitLot',\n 'powers_2',\n 'grouper',\n '1583',\n 'setIntegerArray',\n 'conj',\n 'topCard',\n 'getCol',\n '\"b=\"',\n 'JavaApplication22',\n 'rotateRight',\n 'newVersions',\n 'parents',\n 'is_in_area',\n 'meow',\n 'ipf',\n '4157',\n 'pos_end',\n 'CTanyaAndStairways',\n '782',\n 'upd_val',\n 'Problem_996A',\n 'vers',\n '\"YES\\\\n%s\"',\n 'SonyaandExp',\n 'needed',\n '\"/Users/crraksh/Documents/competitive competition/src/codeforces/content_1256/contest_2050/in.txt\"',\n 'partCylinder',\n 'possi',\n '0.0000000006d',\n 'remx',\n 'IntBinaryOperator',\n 'currentTest',\n 'o_prefix',\n 'ostate',\n 'tyt',\n 'strPattern',\n 'SolveD',\n 'minval',\n 'validPos',\n 'PheonixAndSocks',\n '\"999999999 12345679\"',\n 'DailyDose',\n 'SortedPath[]',\n '\"Tower(\"',\n 'WaveletTree',\n 'startingChar',\n 'arrangement2',\n 'distSink',\n 'argmind',\n '0.0005d',\n 'sts',\n 'ArrayUtils',\n 'P1516C',\n '_716',\n 'strr',\n '\"IVXL\"',\n 'cTi',\n 'b.in',\n 'CF1514A',\n 'goright',\n 'xxl2',\n 'accum',\n 'Temp[]',\n '0d',\n 'bytes_buffered',\n 'nss',\n 'lcs',\n 'opal',\n 'space',\n 'disperse',\n 'Codehorses_Tshirts',\n 'reven',\n 'bracket',\n '566',\n 'matSort',\n 'nextGreaterRev',\n 'totalMemory',\n 'ranges',\n 'dim2',\n 'idxOfOne',\n 'yes',\n '1000000002',\n 'oldSizes',\n 'reverse_array',\n '631',\n 'decode',\n '1000000000000l',\n 'getRandomLong',\n '410',\n 'max20',\n 'longm',\n 'CodeForces1509B',\n 's20',\n 'trees',\n 'orignal_sum',\n 'vs2',\n 'Task1509_B',\n '\"%d %d\"',\n 'rightInd',\n 'NastiaAndNearlyGoodNumbers',\n 'isThereSquare',\n 'edge2',\n 'gCount',\n 'razv',\n 'prevChar',\n '2293',\n 'lastDivisible',\n 'I_AM_AV',\n 'CompVector',\n 'TaskB',\n 's.m',\n 'resutl',\n 'elementsLeft',\n 'NextArrayIndex',\n 'getPos',\n 'billetes',\n 'tulipAdd',\n 'zKN',\n 'algo124',\n 'next4',\n '4877',\n 'fsca',\n 'theTasks',\n 'CF1519B',\n 'minreq',\n 'FILE',\n 'toC',\n 'unin',\n 'maxAmount',\n 'cmpid',\n 'new_map',\n 'totE',\n '_contest',\n 'rdiv2',\n 'res3',\n 'SES',\n '\"99999999 1000010\"',\n 'extgcd',\n 'GetMin',\n 'input4',\n 'segseive',\n 'Sol43',\n 'closed',\n 'MM',\n 'NewPointer',\n 'test_case',\n 'baseSum',\n 'arrLength',\n 'newShirts',\n 'modInverse',\n 'possibleLast',\n 'MyCpClass',\n '205',\n 'CR496DIV3MedianonSegments_PermutationsEdition',\n 'modI',\n 'EdE',\n 'next2',\n 'newM',\n 'hasCommonFactor',\n 'prevRowAndCol',\n ...}"
     },
     "execution_count": 56,
     "metadata": {},
     "output_type": "execute_result"
    }
   ],
   "source": [
    "vocab = set()\n",
    "for code in codes:\n",
    "    for statement in code:\n",
    "        for token, _ in statement:\n",
    "            vocab.add(token)\n",
    "vocab"
   ],
   "metadata": {
    "collapsed": false,
    "pycharm": {
     "name": "#%%\n"
    }
   }
  },
  {
   "cell_type": "code",
   "execution_count": 57,
   "outputs": [],
   "source": [
    "vocab = list(vocab)\n",
    "token_to_id = {j:i for i, j in enumerate(vocab)}"
   ],
   "metadata": {
    "collapsed": false,
    "pycharm": {
     "name": "#%%\n"
    }
   }
  },
  {
   "cell_type": "code",
   "execution_count": 58,
   "outputs": [],
   "source": [
    "dim = 192"
   ],
   "metadata": {
    "collapsed": false,
    "pycharm": {
     "name": "#%%\n"
    }
   }
  },
  {
   "cell_type": "code",
   "execution_count": 59,
   "outputs": [],
   "source": [
    "w2v_model = Word2Vec.load('utils/java.w2v')\n",
    "w2v_wv = w2v_model.wv\n",
    "w2v_embeddings = np.array([w2v_wv[i] if i in w2v_wv else np.zeros((dim,)) for i in vocab])"
   ],
   "metadata": {
    "collapsed": false,
    "pycharm": {
     "name": "#%%\n"
    }
   }
  },
  {
   "cell_type": "code",
   "execution_count": 60,
   "outputs": [],
   "source": [
    "ft_model = FastText.load('utils/java.ft')\n",
    "ft_wv = ft_model.wv\n",
    "ft_embeddings = np.array([ft_wv[i] if i in ft_wv else np.zeros((dim,)) for i in vocab])"
   ],
   "metadata": {
    "collapsed": false,
    "pycharm": {
     "name": "#%%\n"
    }
   }
  },
  {
   "cell_type": "code",
   "execution_count": 61,
   "outputs": [
    {
     "name": "stdout",
     "output_type": "stream",
     "text": [
      "[[ 0.30367     0.10270511 -0.4131966  ... -0.0845805  -0.01419335\n",
      "  -0.17824554]\n",
      " [ 0.05798344 -0.05268424  0.10425927 ...  0.09329583  0.12661745\n",
      "  -0.04027711]\n",
      " [-0.12143497 -0.05300783  0.02445679 ...  0.06512076 -0.01052139\n",
      "  -0.04133365]\n",
      " ...\n",
      " [ 0.07665545  0.00831272 -0.0460017  ...  0.08507466  0.03281435\n",
      "   0.19442406]\n",
      " [ 0.02235229 -0.09181054 -0.01255795 ...  0.01226202  0.03656536\n",
      "   0.10051543]\n",
      " [-0.06773315 -0.04321453  0.0452197  ...  0.05534829 -0.02168257\n",
      "   0.03712261]]\n",
      "[[ 0.2969489   0.16750643  1.1966213  ... -0.5208342  -0.38895652\n",
      "  -1.9641588 ]\n",
      " [-0.2575132   0.23734853 -0.12299175 ...  0.34764686 -0.925342\n",
      "  -1.0036569 ]\n",
      " [-0.7809004   0.5879315   0.43735573 ...  1.0293046  -2.060124\n",
      "  -1.3344779 ]\n",
      " ...\n",
      " [ 0.01664163 -0.00615533 -0.00461163 ...  0.19570808 -0.02923601\n",
      "   0.0089868 ]\n",
      " [-0.09287308 -0.29611906  0.0054104  ... -0.16896923 -0.06315529\n",
      "  -0.05832468]\n",
      " [ 0.19434837  0.7019075   0.585249   ... -0.12767608 -0.05076283\n",
      "  -0.6632441 ]]\n"
     ]
    }
   ],
   "source": [
    "print(w2v_embeddings[:10])\n",
    "print(ft_embeddings[:10])"
   ],
   "metadata": {
    "collapsed": false,
    "pycharm": {
     "name": "#%%\n"
    }
   }
  },
  {
   "cell_type": "code",
   "execution_count": 62,
   "outputs": [
    {
     "name": "stdout",
     "output_type": "stream",
     "text": [
      "21777 21777\n",
      "21777 21777\n"
     ]
    }
   ],
   "source": [
    "print(sum(i in w2v_wv for i in vocab), len(vocab))\n",
    "print(sum(i in ft_wv for i in vocab), len(vocab))"
   ],
   "metadata": {
    "collapsed": false,
    "pycharm": {
     "name": "#%%\n"
    }
   }
  },
  {
   "cell_type": "code",
   "execution_count": 63,
   "outputs": [
    {
     "name": "stdout",
     "output_type": "stream",
     "text": [
      "21777\n",
      "21777\n"
     ]
    }
   ],
   "source": [
    "print(len(w2v_model.wv.key_to_index))\n",
    "print(len(ft_model.wv.key_to_index))"
   ],
   "metadata": {
    "collapsed": false,
    "pycharm": {
     "name": "#%%\n"
    }
   }
  }
 ],
 "metadata": {
  "kernelspec": {
   "display_name": "Python 3",
   "language": "python",
   "name": "python3"
  },
  "language_info": {
   "codemirror_mode": {
    "name": "ipython",
    "version": 2
   },
   "file_extension": ".py",
   "mimetype": "text/x-python",
   "name": "python",
   "nbconvert_exporter": "python",
   "pygments_lexer": "ipython2",
   "version": "2.7.6"
  }
 },
 "nbformat": 4,
 "nbformat_minor": 0
}